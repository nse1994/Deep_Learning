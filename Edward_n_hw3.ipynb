{
 "cells": [
  {
   "cell_type": "markdown",
   "metadata": {},
   "source": [
    "## Training a neural network for Image Classification using CNN"
   ]
  },
  {
   "cell_type": "markdown",
   "metadata": {},
   "source": [
    "We will be using the CIFAR-10 dataset for training the Image classifier\n",
    "\n",
    "CIFAR-10 consists of 60000 32x32 color images in 10 classes, with 6000 images per class. There are 50000 training images and 10000 test images.  The 10 classes are: ['airplane', 'automobile', 'bird', 'cat', 'deer', 'dog', 'frog', 'horse', 'ship', 'truck']\n",
    "\n",
    "More information on CIFAR-10 can be found here: http://www.cs.toronto.edu/~kriz/cifar.html  and the dataset can be found here: http://www.cs.toronto.edu/~kriz/cifar-10-python.tar.gz"
   ]
  },
  {
   "cell_type": "markdown",
   "metadata": {},
   "source": [
    "### Import Relavent libraries"
   ]
  },
  {
   "cell_type": "code",
   "execution_count": 1,
   "metadata": {},
   "outputs": [
    {
     "name": "stderr",
     "output_type": "stream",
     "text": [
      "Using TensorFlow backend.\n"
     ]
    },
    {
     "name": "stdout",
     "output_type": "stream",
     "text": [
      "GPU is available\n"
     ]
    }
   ],
   "source": [
    "import keras\n",
    "from keras.models import Sequential\n",
    "from keras.preprocessing.image import ImageDataGenerator\n",
    "from keras.layers import Dense, Dropout, Flatten, BatchNormalization\n",
    "from keras.layers import Conv2D, MaxPool2D\n",
    "from keras import regularizers, initializers\n",
    "import numpy as np\n",
    "import pandas as pd \n",
    "import matplotlib.pyplot as plt\n",
    "%matplotlib inline\n",
    "import tensorflow as tf\n",
    "\n",
    "%matplotlib inline\n",
    "\n",
    "print(\"GPU is available\" if tf.test.is_gpu_available() else \"NOT AVAILABLE\")"
   ]
  },
  {
   "cell_type": "markdown",
   "metadata": {},
   "source": [
    "### Load Dataset"
   ]
  },
  {
   "cell_type": "code",
   "execution_count": 2,
   "metadata": {},
   "outputs": [],
   "source": [
    "# CIFAR-10 constants\n",
    "# Width and height of each image.\n",
    "img_size = 32\n",
    "# Number of channels in each image, 3 channels: Red, Green, Blue.\n",
    "img_channels = 3\n",
    "nb_classes = 10\n",
    "# length of the image after we flatten the image into a 1-D array\n",
    "img_size_flat = img_size * img_size * img_channels\n",
    "# Number of files for the training-set.\n",
    "nb_files_train = 5\n",
    "# Number of images for each batch-file in the training-set.\n",
    "images_per_file = 10000\n",
    "# Total number of images in the training-set.\n",
    "nb_images_train = nb_files_train * images_per_file"
   ]
  },
  {
   "cell_type": "code",
   "execution_count": 3,
   "metadata": {},
   "outputs": [],
   "source": [
    "#libraries needed for extracting data\n",
    "#more info https://github.com/Hvass-Labs/TensorFlow-Tutorials/blob/master/cifar10.py\n",
    "import os\n",
    "import _pickle as pickle\n",
    "from keras.utils import np_utils\n",
    "\n",
    "def load_data(file_name):\n",
    "    \"\"\"\n",
    "    Unpickle the given file and return the data.\n",
    "    \"\"\"\n",
    "    \n",
    "    # Directory where you want to download and save the data-set.\n",
    "    file_path = os.path.join(\"cifar-10-batches-py\", file_name)\n",
    "    \n",
    "    # Unpickle the given file\n",
    "    print('Loading ' + file_name)\n",
    "    with open(file_path, mode='rb') as file:    \n",
    "        data = pickle.load(file, encoding='bytes')\n",
    "    raw_images = data[b'data']\n",
    "    cls = np.array(data[b'labels'])\n",
    "    # Reshape the array to 4-dimensions.\n",
    "    images = raw_images.reshape([-1, img_channels, img_size, img_size])    \n",
    "    # move the channel dimension to the last\n",
    "    images = np.rollaxis(images, 1, 4)\n",
    "    \n",
    "    return images, cls\n",
    "\n",
    "def load_training_data(): \n",
    "    \"\"\"\n",
    "    Load all the training-data for the CIFAR-10 data-set.\n",
    "    The data-set is split into 5 data-files which are merged here.\n",
    "    Returns the images, class-numbers and one-hot encoded class-labels.\n",
    "    \"\"\"\n",
    "    \n",
    "    # pre-allocate the arrays for the images and class-numbers for efficiency.\n",
    "    images = np.zeros(shape=[nb_images_train, img_size, img_size, img_channels], \n",
    "                      dtype=int)\n",
    "    cls = np.zeros(shape=[nb_images_train], dtype=int)\n",
    "    \n",
    "    # Begin-index for the current batch.\n",
    "    begin = 0\n",
    "    \n",
    "    # For each data-file.\n",
    "    for i in range(nb_files_train):\n",
    "        # Load the images and class-numbers from the data-file.\n",
    "        images_batch, cls_batch = load_data(file_name=\"data_batch_\" + str(i + 1))\n",
    "        # Number of images in this batch.\n",
    "        num_images = len(images_batch)\n",
    "        # End-index for the current batch.\n",
    "        end = begin + num_images\n",
    "        # Store the images into the array.\n",
    "        images[begin:end, :] = images_batch\n",
    "        # Store the class-numbers into the array.\n",
    "        cls[begin:end] = cls_batch\n",
    "        # The begin-index for the next batch is the current end-index.\n",
    "        begin = end\n",
    "        \n",
    "    return images, np_utils.to_categorical(cls, nb_classes)\n",
    "\n",
    "def load_test_data():\n",
    "    \"\"\"\n",
    "    Load all the test-data for the CIFAR-10 data-set.\n",
    "    Returns the images, class-numbers and one-hot encoded class-labels.\n",
    "    \"\"\"\n",
    "    images, cls = load_data(file_name=\"test_batch\")\n",
    "    \n",
    "    return images, np_utils.to_categorical(cls, nb_classes)\n",
    "\n",
    "def load_cifar():\n",
    "    X_train, Y_train = load_training_data()\n",
    "    X_test, Y_test = load_test_data()\n",
    "    \n",
    "    return X_train, Y_train, X_test, Y_test"
   ]
  },
  {
   "cell_type": "code",
   "execution_count": 4,
   "metadata": {},
   "outputs": [
    {
     "name": "stdout",
     "output_type": "stream",
     "text": [
      "Loading data_batch_1\n",
      "Loading data_batch_2\n",
      "Loading data_batch_3\n",
      "Loading data_batch_4\n",
      "Loading data_batch_5\n",
      "Loading test_batch\n",
      "\n",
      "X_train shape: (50000, 32, 32, 3)\n",
      "Y_train shape: (50000, 10)\n",
      "X_test shape: (10000, 32, 32, 3)\n",
      "Y_test shape: (10000, 10)\n"
     ]
    }
   ],
   "source": [
    "X_train, Y_train, X_test, Y_test = load_cifar()\n",
    "\n",
    "print('\\nX_train shape:', X_train.shape)\n",
    "print('Y_train shape:', Y_train.shape)\n",
    "print('X_test shape:', X_test.shape)\n",
    "print('Y_test shape:', Y_test.shape)"
   ]
  },
  {
   "cell_type": "code",
   "execution_count": 5,
   "metadata": {},
   "outputs": [],
   "source": [
    "# normalize inputs from 0-255 to 0.0-1.0\n",
    "X_train = X_train.astype('float32')\n",
    "X_test = X_test.astype('float32')\n",
    "X_train = X_train / 255.0\n",
    "X_test = X_test / 255.0"
   ]
  },
  {
   "cell_type": "code",
   "execution_count": 6,
   "metadata": {
    "scrolled": true
   },
   "outputs": [
    {
     "data": {
      "text/plain": [
       "<matplotlib.image.AxesImage at 0x25247fcd988>"
      ]
     },
     "execution_count": 6,
     "metadata": {},
     "output_type": "execute_result"
    },
    {
     "data": {
      "image/png": "[encoded data removed]",
      "text/plain": [
       "<Figure size 432x288 with 1 Axes>"
      ]
     },
     "metadata": {
      "needs_background": "light"
     },
     "output_type": "display_data"
    }
   ],
   "source": [
    "plt.imshow(X_test[10])"
   ]
  },
  {
   "cell_type": "markdown",
   "metadata": {},
   "source": [
    "\n",
    "## Building CNN model architecture\n",
    "\n",
    "#### First CNN Layer\n",
    "\n",
    "CNN layer hyper-parameters:\n",
    "`filters: 64 , kernel_size:5x5, padding: same, activation: relu, input_shape: (32, 32, 3)`\n",
    "\n",
    "#### Second CNN Layer and max pool layer\n",
    "\n",
    "- CNN layer hyper-parameters:\n",
    "`filters: 64, kernel_size:5x5, padding: same, activation: relu`\n",
    "\n",
    "- MaxPool layer hyper-parameters:\n",
    "`pool_size: 2 , strides: 2, padding: valid`\n",
    "\n",
    "#### Flatten layer\n",
    "\n",
    "#### First Dense layer\n",
    "\n",
    "Dense layer hyper-parameters:\n",
    "`units/neurons: 384, activation: relu`\n",
    "\n",
    "#### Second Dense layer\n",
    "\n",
    "Dense layer hyper-parameters:\n",
    "`units/neurons: 192, activation: relu`\n",
    "\n",
    "#### Output layer\n",
    "\n",
    "Dense layer hyper-parameters:\n",
    "`units/neurons: 10 (number of classes),activation: softmax`\n"
   ]
  },
  {
   "cell_type": "markdown",
   "metadata": {},
   "source": [
    "### Model Architecture"
   ]
  },
  {
   "cell_type": "code",
   "execution_count": 7,
   "metadata": {},
   "outputs": [
    {
     "name": "stdout",
     "output_type": "stream",
     "text": [
      "Model: \"sequential_1\"\n",
      "_________________________________________________________________\n",
      "Layer (type)                 Output Shape              Param #   \n",
      "=================================================================\n",
      "conv2d_1 (Conv2D)            (None, 32, 32, 64)        4864      \n",
      "_________________________________________________________________\n",
      "batch_normalization_1 (Batch (None, 32, 32, 64)        256       \n",
      "_________________________________________________________________\n",
      "conv2d_2 (Conv2D)            (None, 32, 32, 64)        102464    \n",
      "_________________________________________________________________\n",
      "max_pooling2d_1 (MaxPooling2 (None, 16, 16, 64)        0         \n",
      "_________________________________________________________________\n",
      "dropout_1 (Dropout)          (None, 16, 16, 64)        0         \n",
      "_________________________________________________________________\n",
      "flatten_1 (Flatten)          (None, 16384)             0         \n",
      "_________________________________________________________________\n",
      "dense_1 (Dense)              (None, 384)               6291840   \n",
      "_________________________________________________________________\n",
      "batch_normalization_2 (Batch (None, 384)               1536      \n",
      "_________________________________________________________________\n",
      "dense_2 (Dense)              (None, 192)               73920     \n",
      "_________________________________________________________________\n",
      "dense_3 (Dense)              (None, 10)                1930      \n",
      "=================================================================\n",
      "Total params: 6,476,810\n",
      "Trainable params: 6,475,914\n",
      "Non-trainable params: 896\n",
      "_________________________________________________________________\n"
     ]
    }
   ],
   "source": [
    "# kernel_initializer setup for relu\n",
    "he = initializers.he_normal(seed=None)\n",
    "#kernal regularizer\n",
    "regularizer= regularizers.l2(l=0.001)\n",
    "\n",
    "model = Sequential()\n",
    "# Convolutional layers and Pooling\n",
    "model.add(Conv2D(filters=64, kernel_size=5, kernel_initializer=he, kernel_regularizer= regularizer, padding=\"same\", activation=\"relu\", input_shape=[32, 32, 3]))\n",
    "model.add(BatchNormalization())\n",
    "model.add(Conv2D(filters=64, kernel_size=5, padding=\"same\", activation=\"relu\"))\n",
    "model.add(MaxPool2D(pool_size=2, strides=2, padding='valid'))\n",
    "model.add(Dropout(0.4))\n",
    "\n",
    "# Flattening\n",
    "model.add(Flatten())\n",
    "# Dense layers using regularizer l2\n",
    "model.add(Dense(units=384, activation='relu'))\n",
    "model.add(BatchNormalization())\n",
    "model.add(Dense(192, activation='relu'))\n",
    "#output dense layer\n",
    "model.add(Dense(units=10, activation='softmax'))\n",
    "\n",
    "model.summary()\n"
   ]
  },
  {
   "cell_type": "markdown",
   "metadata": {},
   "source": [
    "    Param #\n",
    "    channels_in * kernel_width * kernel_height * channels_out + num_channels. The addition of the number of channels is the bias terms\n",
    "\n",
    "    So the first example: 3 * 5 * 5 * 64 + 64 = 4864, And the second: 64 * 5 * 5 * 64 + 64 = 102464\n",
    "    16384 * 384 + 34 = 6291840, 382 * 192 + 192 = 73920, 192 * 10 + 10= 1930"
   ]
  },
  {
   "cell_type": "markdown",
   "metadata": {},
   "source": [
    "### Compiling the model"
   ]
  },
  {
   "cell_type": "code",
   "execution_count": 8,
   "metadata": {},
   "outputs": [],
   "source": [
    "custom_optimizer = tf.keras.optimizers.Adam(learning_rate=.0005)\n",
    "model.compile(loss=\"categorical_crossentropy\",\n",
    "              optimizer='Adam', metrics=[\"accuracy\"])"
   ]
  },
  {
   "cell_type": "markdown",
   "metadata": {},
   "source": [
    "### Data Augmentation"
   ]
  },
  {
   "cell_type": "code",
   "execution_count": 9,
   "metadata": {},
   "outputs": [],
   "source": [
    "#data augmentation\n",
    "datagen = ImageDataGenerator(\n",
    "    rotation_range=15,\n",
    "    width_shift_range=0.1,\n",
    "    height_shift_range=0.1,\n",
    "    horizontal_flip=True,\n",
    "    )\n",
    "datagen.fit(X_train)"
   ]
  },
  {
   "cell_type": "markdown",
   "metadata": {},
   "source": [
    "### Early stopping"
   ]
  },
  {
   "cell_type": "code",
   "execution_count": 10,
   "metadata": {},
   "outputs": [],
   "source": [
    "from keras.callbacks import EarlyStopping\n",
    "# Set callback functions to early stop training\n",
    "callbacks = EarlyStopping(monitor='val_loss', patience=6, verbose=1, mode='auto', restore_best_weights=True)"
   ]
  },
  {
   "cell_type": "markdown",
   "metadata": {},
   "source": [
    "### Training model"
   ]
  },
  {
   "cell_type": "code",
   "execution_count": 11,
   "metadata": {
    "scrolled": false
   },
   "outputs": [
    {
     "name": "stdout",
     "output_type": "stream",
     "text": [
      "Epoch 1/60\n",
      " - 35s - loss: 1.5475 - accuracy: 0.4920 - val_loss: 2.4609 - val_accuracy: 0.2631\n",
      "Epoch 2/60\n",
      " - 30s - loss: 1.2154 - accuracy: 0.6056 - val_loss: 1.5733 - val_accuracy: 0.4894\n",
      "Epoch 3/60\n",
      " - 32s - loss: 1.0888 - accuracy: 0.6461 - val_loss: 1.0217 - val_accuracy: 0.6687\n",
      "Epoch 4/60\n",
      " - 33s - loss: 1.0074 - accuracy: 0.6740 - val_loss: 0.9700 - val_accuracy: 0.6937\n",
      "Epoch 5/60\n",
      " - 32s - loss: 0.9472 - accuracy: 0.6950 - val_loss: 1.1521 - val_accuracy: 0.6560\n",
      "Epoch 6/60\n",
      " - 31s - loss: 0.9044 - accuracy: 0.7091 - val_loss: 0.9563 - val_accuracy: 0.7002\n",
      "Epoch 7/60\n",
      " - 32s - loss: 0.8654 - accuracy: 0.7225 - val_loss: 1.0249 - val_accuracy: 0.6900\n",
      "Epoch 8/60\n",
      " - 31s - loss: 0.8319 - accuracy: 0.7312 - val_loss: 0.8953 - val_accuracy: 0.7174\n",
      "Epoch 9/60\n",
      " - 32s - loss: 0.8087 - accuracy: 0.7383 - val_loss: 0.8983 - val_accuracy: 0.7166\n",
      "Epoch 10/60\n",
      " - 31s - loss: 0.7780 - accuracy: 0.7489 - val_loss: 0.8348 - val_accuracy: 0.7381\n",
      "Epoch 11/60\n",
      " - 31s - loss: 0.7570 - accuracy: 0.7566 - val_loss: 0.9103 - val_accuracy: 0.7195\n",
      "Epoch 12/60\n",
      " - 31s - loss: 0.7339 - accuracy: 0.7624 - val_loss: 0.8680 - val_accuracy: 0.7341\n",
      "Epoch 13/60\n",
      " - 32s - loss: 0.7168 - accuracy: 0.7665 - val_loss: 0.8503 - val_accuracy: 0.7374\n",
      "Epoch 14/60\n",
      " - 31s - loss: 0.7054 - accuracy: 0.7710 - val_loss: 0.7895 - val_accuracy: 0.7538\n",
      "Epoch 15/60\n",
      " - 31s - loss: 0.6820 - accuracy: 0.7781 - val_loss: 0.7862 - val_accuracy: 0.7577\n",
      "Epoch 16/60\n",
      " - 29s - loss: 0.6692 - accuracy: 0.7833 - val_loss: 0.8902 - val_accuracy: 0.7174\n",
      "Epoch 17/60\n",
      " - 33s - loss: 0.6502 - accuracy: 0.7883 - val_loss: 0.9499 - val_accuracy: 0.7228\n",
      "Epoch 18/60\n",
      " - 47s - loss: 0.6426 - accuracy: 0.7911 - val_loss: 0.7869 - val_accuracy: 0.7611\n",
      "Epoch 19/60\n",
      " - 60s - loss: 0.6312 - accuracy: 0.7961 - val_loss: 0.7498 - val_accuracy: 0.7709\n",
      "Epoch 20/60\n",
      " - 59s - loss: 0.6192 - accuracy: 0.7986 - val_loss: 0.7537 - val_accuracy: 0.7657\n",
      "Epoch 21/60\n",
      " - 59s - loss: 0.6095 - accuracy: 0.8021 - val_loss: 0.7192 - val_accuracy: 0.7831\n",
      "Epoch 22/60\n",
      " - 60s - loss: 0.5981 - accuracy: 0.8053 - val_loss: 0.8298 - val_accuracy: 0.7420\n",
      "Epoch 23/60\n",
      " - 65s - loss: 0.5917 - accuracy: 0.8087 - val_loss: 0.7262 - val_accuracy: 0.7787\n",
      "Epoch 24/60\n",
      " - 43s - loss: 0.5810 - accuracy: 0.8099 - val_loss: 0.7506 - val_accuracy: 0.7736\n",
      "Epoch 25/60\n",
      " - 41s - loss: 0.5674 - accuracy: 0.8150 - val_loss: 0.7569 - val_accuracy: 0.7664\n",
      "Epoch 26/60\n",
      " - 39s - loss: 0.5642 - accuracy: 0.8149 - val_loss: 0.8938 - val_accuracy: 0.7394\n",
      "Epoch 27/60\n",
      " - 40s - loss: 0.5551 - accuracy: 0.8173 - val_loss: 0.7086 - val_accuracy: 0.7844\n",
      "Epoch 28/60\n",
      " - 43s - loss: 0.5416 - accuracy: 0.8221 - val_loss: 0.8545 - val_accuracy: 0.7447\n",
      "Epoch 29/60\n",
      " - 33s - loss: 0.5391 - accuracy: 0.8243 - val_loss: 0.7490 - val_accuracy: 0.7636\n",
      "Epoch 30/60\n",
      " - 33s - loss: 0.5307 - accuracy: 0.8272 - val_loss: 0.7879 - val_accuracy: 0.7700\n",
      "Epoch 31/60\n",
      " - 34s - loss: 0.5215 - accuracy: 0.8289 - val_loss: 0.7330 - val_accuracy: 0.7720\n",
      "Epoch 32/60\n",
      " - 32s - loss: 0.5115 - accuracy: 0.8333 - val_loss: 0.8556 - val_accuracy: 0.7579\n",
      "Epoch 33/60\n",
      " - 32s - loss: 0.5072 - accuracy: 0.8333 - val_loss: 0.7535 - val_accuracy: 0.7736\n",
      "Restoring model weights from the end of the best epoch\n",
      "Epoch 00033: early stopping\n"
     ]
    }
   ],
   "source": [
    "# # training method if not using data augmentation\n",
    "# history = model.fit(X_train, Y_train, validation_split=.2, epochs=15,batch_size=256, verbose=2 )\n",
    "\n",
    "#training method if using data augmentation\n",
    "batch_size=256\n",
    "history= model.fit_generator(datagen.flow(X_train, Y_train, batch_size=batch_size),\\\n",
    "                    steps_per_epoch=X_train.shape[0] // batch_size,epochs=60,\\\n",
    "                    verbose=2, callbacks = [callbacks]\n",
    "                             ,validation_data=(X_test,Y_test), validation_steps= len(X_test)\n",
    "                            )"
   ]
  },
  {
   "cell_type": "markdown",
   "metadata": {},
   "source": [
    "### Getting Filter weights"
   ]
  },
  {
   "cell_type": "code",
   "execution_count": 12,
   "metadata": {},
   "outputs": [
    {
     "name": "stdout",
     "output_type": "stream",
     "text": [
      "conv2d_1 (5, 5, 3, 64)\n",
      "conv2d_2 (5, 5, 64, 64)\n"
     ]
    }
   ],
   "source": [
    "# summarize filter shapes\n",
    "for layer in model.layers:\n",
    "    # check for convolutional layer\n",
    "    if 'conv' not in layer.name:\n",
    "        continue\n",
    "    # get filter weights\n",
    "    filters, biases = layer.get_weights()\n",
    "    print(layer.name, filters.shape)"
   ]
  },
  {
   "cell_type": "code",
   "execution_count": 13,
   "metadata": {},
   "outputs": [
    {
     "data": {
      "text/plain": [
       "array([0.7697273 , 0.4474221 , 0.44698727, 0.5550603 , 0.6910638 ,\n",
       "       0.7334835 , 0.44259438, 0.43241295, 0.6626219 , 0.5421681 ,\n",
       "       0.70588946, 0.5297239 , 0.5537701 , 0.56584513, 0.2423598 ,\n",
       "       0.6526081 , 0.7039083 , 0.71914136, 0.43219185, 0.21878196,\n",
       "       0.41087803, 0.44913998, 0.2854418 , 0.3390023 , 0.437975  ,\n",
       "       0.5154511 , 0.573001  , 0.59553194, 0.6258392 , 0.37935302,\n",
       "       0.47141013, 0.3882909 , 0.5807024 , 0.5158387 , 0.5091942 ,\n",
       "       0.5673279 , 0.28547284, 0.53159416, 0.47617325, 0.29049134,\n",
       "       0.54472697, 0.4999956 , 0.64088744, 0.58842313, 0.80063146,\n",
       "       0.45773408, 0.53977805, 0.6611836 , 0.5879021 , 0.43091673,\n",
       "       0.55852026, 0.5043491 , 0.7778543 , 0.59683454, 0.70188457,\n",
       "       0.48349538, 0.48344767, 0.26028267, 0.7139461 , 0.622644  ,\n",
       "       0.59902126, 0.41481963, 0.8203898 , 0.51583505], dtype=float32)"
      ]
     },
     "execution_count": 13,
     "metadata": {},
     "output_type": "execute_result"
    }
   ],
   "source": [
    "# retrieve weights from the first Convolution layer\n",
    "filters, biases = model.layers[0].get_weights()\n",
    "# normalize filter values to 0-1 so we can visualize them\n",
    "f_min, f_max = filters.min(), filters.max()\n",
    "filters = (filters - f_min) / (f_max - f_min)\n",
    "filters[0][0][0]"
   ]
  },
  {
   "cell_type": "code",
   "execution_count": 14,
   "metadata": {},
   "outputs": [
    {
     "data": {
      "image/png": "[encoded data removed]",
      "text/plain": [
       "<Figure size 432x288 with 15 Axes>"
      ]
     },
     "metadata": {},
     "output_type": "display_data"
    }
   ],
   "source": [
    "# plot first few filters\n",
    "n_filters, ix = 5, 1\n",
    "for i in range(n_filters):\n",
    "    # get the filter\n",
    "    f = filters[:, :, :, i]\n",
    "    # plot each channel separately\n",
    "    for j in range(3):\n",
    "        # specify subplot and turn of axis\n",
    "        ax = plt.subplot(n_filters, 3, ix)\n",
    "        ax.set_xticks([])\n",
    "        ax.set_yticks([])\n",
    "        # plot filter channel in grayscale\n",
    "        plt.imshow(f[:, :, j],cmap='gray')\n",
    "        ix += 1\n",
    "# show the figure\n",
    "plt.show()"
   ]
  },
  {
   "cell_type": "markdown",
   "metadata": {},
   "source": [
    "The dark squares indicate small or inhibitory weights and the light squares represent large or excitatory weights. "
   ]
  },
  {
   "cell_type": "code",
   "execution_count": 15,
   "metadata": {},
   "outputs": [
    {
     "data": {
      "image/png": "[encoded data removed]",
      "text/plain": [
       "<Figure size 432x288 with 15 Axes>"
      ]
     },
     "metadata": {},
     "output_type": "display_data"
    }
   ],
   "source": [
    "# retrieve weights from the second convolution layer\n",
    "filters, biases = model.layers[2].get_weights()\n",
    "# normalize filter values to 0-1 so we can visualize them\n",
    "f_min, f_max = filters.min(), filters.max()\n",
    "filters = (filters - f_min) / (f_max - f_min)\n",
    "# plot first few filters\n",
    "n_filters, ix = 5, 1\n",
    "for i in range(n_filters):\n",
    "    # get the filter\n",
    "    f = filters[:, :, :, i]\n",
    "    # plot each channel separately\n",
    "    for j in range(3):\n",
    "        # specify subplot and turn of axis\n",
    "        ax = plt.subplot(n_filters, 3, ix)\n",
    "        ax.set_xticks([])\n",
    "        ax.set_yticks([])\n",
    "        # plot filter channel in grayscale\n",
    "        plt.imshow(f[:, :, j],cmap='gray')\n",
    "        ix += 1\n",
    "# show the figure\n",
    "plt.show()"
   ]
  },
  {
   "cell_type": "markdown",
   "metadata": {},
   "source": [
    "### Plot"
   ]
  },
  {
   "cell_type": "code",
   "execution_count": 16,
   "metadata": {},
   "outputs": [
    {
     "name": "stdout",
     "output_type": "stream",
     "text": [
      "dict_keys(['val_loss', 'val_accuracy', 'loss', 'accuracy'])\n"
     ]
    }
   ],
   "source": [
    "# list all data in history\n",
    "print(history.history.keys())"
   ]
  },
  {
   "cell_type": "code",
   "execution_count": 17,
   "metadata": {},
   "outputs": [
    {
     "data": {
      "image/png": "[encoded data removed]",
      "text/plain": [
       "<Figure size 432x288 with 1 Axes>"
      ]
     },
     "metadata": {
      "needs_background": "light"
     },
     "output_type": "display_data"
    }
   ],
   "source": [
    "# for plotting the training and validation accuracy\n",
    "plt.clf()\n",
    "accuracy = history.history['accuracy']\n",
    "val_accuracy = history.history['val_accuracy']\n",
    "epochs = range(1, len(accuracy) + 1)\n",
    "plt.plot(epochs, accuracy, 'g', label='Training Accuracy')\n",
    "plt.plot(epochs, val_accuracy, 'r', label='Testing Accuracy')\n",
    "plt.title('Training and Testing Accuracy')\n",
    "plt.xlabel('Epochs')\n",
    "plt.ylabel('Accuracy')\n",
    "plt.legend()\n",
    "plt.show()"
   ]
  },
  {
   "cell_type": "code",
   "execution_count": 18,
   "metadata": {},
   "outputs": [
    {
     "data": {
      "image/png": "[encoded data removed]",
      "text/plain": [
       "<Figure size 432x288 with 1 Axes>"
      ]
     },
     "metadata": {
      "needs_background": "light"
     },
     "output_type": "display_data"
    }
   ],
   "source": [
    "# summarize history for loss\n",
    "plt.plot(history.history['loss'], 'g')\n",
    "plt.plot(history.history['val_loss'], 'r')\n",
    "plt.title('Model Train loss')\n",
    "plt.ylabel('Loss')\n",
    "plt.xlabel('Epoch')\n",
    "plt.legend(['Train', 'Test'], loc='upper left')\n",
    "plt.show()"
   ]
  },
  {
   "cell_type": "markdown",
   "metadata": {},
   "source": [
    "### Testing model"
   ]
  },
  {
   "cell_type": "code",
   "execution_count": 19,
   "metadata": {},
   "outputs": [
    {
     "name": "stdout",
     "output_type": "stream",
     "text": [
      "10000/10000 [==============================] - 3s 316us/step\n",
      "Classification accuracy on the test set:: 78.44%\n"
     ]
    }
   ],
   "source": [
    "test_loss, test_accuracy = model.evaluate(X_test,Y_test, batch_size=None)\n",
    "print('Classification accuracy on the test set:: {0:.2f}%'.format(test_accuracy*100))"
   ]
  },
  {
   "cell_type": "markdown",
   "metadata": {},
   "source": [
    "### Convert Images to grayscale"
   ]
  },
  {
   "cell_type": "code",
   "execution_count": 20,
   "metadata": {},
   "outputs": [
    {
     "name": "stdout",
     "output_type": "stream",
     "text": [
      "X_train_gray shape: (50000, 32, 32, 1)\n",
      "X_test_gray shape: (10000, 32, 32, 1)\n"
     ]
    },
    {
     "data": {
      "image/png": "[encoded data removed]",
      "text/plain": [
       "<Figure size 288x144 with 2 Axes>"
      ]
     },
     "metadata": {
      "needs_background": "light"
     },
     "output_type": "display_data"
    }
   ],
   "source": [
    "def grayscale(data, dtype='float32'):\n",
    "    # luma coding weighted average in video systems\n",
    "    r, g, b = np.asarray(.3, dtype=dtype), np.asarray(.59, dtype=dtype), np.asarray(.11, dtype=dtype)\n",
    "    rst = r * data[:, :, :, 0] + g * data[:, :, :, 1] + b * data[:, :, :, 2]\n",
    "    # add channel dimension\n",
    "    rst = np.expand_dims(rst, axis=3)\n",
    "    return rst\n",
    "\n",
    "X_train_gray = grayscale(X_train)\n",
    "X_test_gray = grayscale(X_test)\n",
    "print('X_train_gray shape:', X_train_gray.shape)\n",
    "print('X_test_gray shape:', X_test_gray.shape)\n",
    "\n",
    "# now we have only one channel in the images\n",
    "img_channels = 1\n",
    "\n",
    "# plotting a randomly chosen image\n",
    "img = 3\n",
    "plt.figure(figsize=(4, 2))\n",
    "plt.subplot(1, 2, 1)\n",
    "plt.imshow(X_train[img], interpolation='none')\n",
    "plt.subplot(1, 2, 2)\n",
    "plt.imshow(X_train_gray[img, :, :, 0], cmap=plt.get_cmap('gray'), interpolation='none')\n",
    "plt.show()"
   ]
  },
  {
   "cell_type": "markdown",
   "metadata": {},
   "source": [
    "### CNN Model Architecture"
   ]
  },
  {
   "cell_type": "code",
   "execution_count": 21,
   "metadata": {},
   "outputs": [
    {
     "name": "stdout",
     "output_type": "stream",
     "text": [
      "Model: \"sequential_2\"\n",
      "_________________________________________________________________\n",
      "Layer (type)                 Output Shape              Param #   \n",
      "=================================================================\n",
      "conv2d_3 (Conv2D)            (None, 32, 32, 64)        1664      \n",
      "_________________________________________________________________\n",
      "batch_normalization_3 (Batch (None, 32, 32, 64)        256       \n",
      "_________________________________________________________________\n",
      "conv2d_4 (Conv2D)            (None, 32, 32, 64)        102464    \n",
      "_________________________________________________________________\n",
      "max_pooling2d_2 (MaxPooling2 (None, 16, 16, 64)        0         \n",
      "_________________________________________________________________\n",
      "dropout_2 (Dropout)          (None, 16, 16, 64)        0         \n",
      "_________________________________________________________________\n",
      "flatten_2 (Flatten)          (None, 16384)             0         \n",
      "_________________________________________________________________\n",
      "dense_4 (Dense)              (None, 384)               6291840   \n",
      "_________________________________________________________________\n",
      "batch_normalization_4 (Batch (None, 384)               1536      \n",
      "_________________________________________________________________\n",
      "dense_5 (Dense)              (None, 192)               73920     \n",
      "_________________________________________________________________\n",
      "dense_6 (Dense)              (None, 10)                1930      \n",
      "=================================================================\n",
      "Total params: 6,473,610\n",
      "Trainable params: 6,472,714\n",
      "Non-trainable params: 896\n",
      "_________________________________________________________________\n"
     ]
    }
   ],
   "source": [
    "# kernel_initializer setup for relu\n",
    "he = initializers.he_normal(seed=None)\n",
    "#kernal regularizer\n",
    "regularizer= regularizers.l2(l=0.001)\n",
    "\n",
    "model = Sequential()\n",
    "# Convolutional layers and Pooling\n",
    "model.add(Conv2D(filters=64, kernel_size=5, kernel_initializer=he, kernel_regularizer= regularizer, padding=\"same\", activation=\"relu\", input_shape=[32, 32, 1]))\n",
    "model.add(BatchNormalization())\n",
    "model.add(Conv2D(filters=64, kernel_size=5, padding=\"same\", activation=\"relu\"))\n",
    "model.add(MaxPool2D(pool_size=2, strides=2, padding='valid'))\n",
    "model.add(Dropout(0.4))\n",
    "\n",
    "# Flattening\n",
    "model.add(Flatten())\n",
    "# Dense layers using regularizer l2\n",
    "model.add(Dense(units=384, activation='relu'))\n",
    "model.add(BatchNormalization())\n",
    "model.add(Dense(192, activation='relu'))\n",
    "#output dense layer\n",
    "model.add(Dense(units=10, activation='softmax'))\n",
    "\n",
    "model.summary()"
   ]
  },
  {
   "cell_type": "markdown",
   "metadata": {},
   "source": [
    "### Data Augmentation"
   ]
  },
  {
   "cell_type": "code",
   "execution_count": 22,
   "metadata": {},
   "outputs": [],
   "source": [
    "#data augmentation\n",
    "datagen = ImageDataGenerator(\n",
    "    rotation_range=15,\n",
    "    width_shift_range=0.1,\n",
    "    height_shift_range=0.1,\n",
    "    horizontal_flip=True,\n",
    "    )\n",
    "datagen.fit(X_train_gray)"
   ]
  },
  {
   "cell_type": "markdown",
   "metadata": {},
   "source": [
    "### Compile model"
   ]
  },
  {
   "cell_type": "code",
   "execution_count": 23,
   "metadata": {},
   "outputs": [],
   "source": [
    "custom_optimizer = tf.keras.optimizers.Adam(learning_rate=.0005)\n",
    "model.compile(loss=\"categorical_crossentropy\",\n",
    "              optimizer='Adam', metrics=[\"accuracy\"])"
   ]
  },
  {
   "cell_type": "markdown",
   "metadata": {},
   "source": [
    "### Train model"
   ]
  },
  {
   "cell_type": "code",
   "execution_count": 24,
   "metadata": {},
   "outputs": [
    {
     "name": "stdout",
     "output_type": "stream",
     "text": [
      "Epoch 1/60\n",
      " - 31s - loss: 1.7191 - accuracy: 0.4306 - val_loss: 2.4274 - val_accuracy: 0.2699\n",
      "Epoch 2/60\n",
      " - 30s - loss: 1.3399 - accuracy: 0.5609 - val_loss: 1.5117 - val_accuracy: 0.4991\n",
      "Epoch 3/60\n",
      " - 30s - loss: 1.1966 - accuracy: 0.6112 - val_loss: 1.1068 - val_accuracy: 0.6488\n",
      "Epoch 4/60\n",
      " - 30s - loss: 1.1158 - accuracy: 0.6381 - val_loss: 1.3145 - val_accuracy: 0.5964\n",
      "Epoch 5/60\n",
      " - 30s - loss: 1.0654 - accuracy: 0.6570 - val_loss: 1.1321 - val_accuracy: 0.6445\n",
      "Epoch 6/60\n",
      " - 30s - loss: 1.0064 - accuracy: 0.6739 - val_loss: 1.2639 - val_accuracy: 0.6132\n",
      "Epoch 7/60\n",
      " - 31s - loss: 0.9823 - accuracy: 0.6817 - val_loss: 1.1395 - val_accuracy: 0.6516\n",
      "Epoch 8/60\n",
      " - 30s - loss: 0.9477 - accuracy: 0.6942 - val_loss: 0.9992 - val_accuracy: 0.6894\n",
      "Epoch 9/60\n",
      " - 30s - loss: 0.9263 - accuracy: 0.6986 - val_loss: 0.9378 - val_accuracy: 0.7063\n",
      "Epoch 10/60\n",
      " - 30s - loss: 0.8920 - accuracy: 0.7105 - val_loss: 0.9798 - val_accuracy: 0.6947\n",
      "Epoch 11/60\n",
      " - 30s - loss: 0.8723 - accuracy: 0.7180 - val_loss: 0.9932 - val_accuracy: 0.6888\n",
      "Epoch 12/60\n",
      " - 30s - loss: 0.8557 - accuracy: 0.7217 - val_loss: 0.9114 - val_accuracy: 0.7075\n",
      "Epoch 13/60\n",
      " - 31s - loss: 0.8361 - accuracy: 0.7266 - val_loss: 0.9532 - val_accuracy: 0.7004\n",
      "Epoch 14/60\n",
      " - 30s - loss: 0.8201 - accuracy: 0.7335 - val_loss: 0.9661 - val_accuracy: 0.7038\n",
      "Epoch 15/60\n",
      " - 30s - loss: 0.8070 - accuracy: 0.7384 - val_loss: 0.9002 - val_accuracy: 0.7200\n",
      "Epoch 16/60\n",
      " - 30s - loss: 0.7889 - accuracy: 0.7439 - val_loss: 0.8673 - val_accuracy: 0.7250\n",
      "Epoch 17/60\n",
      " - 30s - loss: 0.7795 - accuracy: 0.7453 - val_loss: 0.8811 - val_accuracy: 0.7418\n",
      "Epoch 18/60\n",
      " - 29s - loss: 0.7693 - accuracy: 0.7475 - val_loss: 1.0346 - val_accuracy: 0.6951\n",
      "Epoch 19/60\n",
      " - 29s - loss: 0.7525 - accuracy: 0.7539 - val_loss: 0.8139 - val_accuracy: 0.7386\n",
      "Epoch 20/60\n",
      " - 28s - loss: 0.7449 - accuracy: 0.7570 - val_loss: 0.8088 - val_accuracy: 0.7429\n",
      "Epoch 21/60\n",
      " - 29s - loss: 0.7303 - accuracy: 0.7608 - val_loss: 0.9774 - val_accuracy: 0.7132\n",
      "Epoch 22/60\n",
      " - 28s - loss: 0.7222 - accuracy: 0.7659 - val_loss: 0.7923 - val_accuracy: 0.7496\n",
      "Epoch 23/60\n",
      " - 28s - loss: 0.7060 - accuracy: 0.7666 - val_loss: 0.8201 - val_accuracy: 0.7485\n",
      "Epoch 24/60\n",
      " - 28s - loss: 0.7051 - accuracy: 0.7686 - val_loss: 0.7989 - val_accuracy: 0.7484\n",
      "Epoch 25/60\n",
      " - 28s - loss: 0.6884 - accuracy: 0.7764 - val_loss: 0.8954 - val_accuracy: 0.7260\n",
      "Epoch 26/60\n",
      " - 28s - loss: 0.6844 - accuracy: 0.7750 - val_loss: 0.8044 - val_accuracy: 0.7467\n",
      "Epoch 27/60\n",
      " - 28s - loss: 0.6753 - accuracy: 0.7783 - val_loss: 0.8664 - val_accuracy: 0.7341\n",
      "Epoch 28/60\n",
      " - 28s - loss: 0.6735 - accuracy: 0.7769 - val_loss: 0.7393 - val_accuracy: 0.7684\n",
      "Epoch 29/60\n",
      " - 29s - loss: 0.6646 - accuracy: 0.7838 - val_loss: 0.7722 - val_accuracy: 0.7532\n",
      "Epoch 30/60\n",
      " - 30s - loss: 0.6542 - accuracy: 0.7844 - val_loss: 0.8422 - val_accuracy: 0.7407\n",
      "Epoch 31/60\n",
      " - 30s - loss: 0.6423 - accuracy: 0.7892 - val_loss: 0.8062 - val_accuracy: 0.7484\n",
      "Epoch 32/60\n",
      " - 29s - loss: 0.6401 - accuracy: 0.7892 - val_loss: 0.7883 - val_accuracy: 0.7603\n",
      "Epoch 33/60\n",
      " - 29s - loss: 0.6417 - accuracy: 0.7888 - val_loss: 0.7616 - val_accuracy: 0.7620\n",
      "Epoch 34/60\n",
      " - 30s - loss: 0.6355 - accuracy: 0.7913 - val_loss: 0.7692 - val_accuracy: 0.7582\n",
      "Restoring model weights from the end of the best epoch\n",
      "Epoch 00034: early stopping\n"
     ]
    }
   ],
   "source": [
    "# # training method if not using data augmentation\n",
    "# history = model.fit(X_train_gray, Y_train, epochs=50,batch_size=256, verbose=2\n",
    "#                    ,validation_data=(X_test_gray,Y_test), validation_steps= len(X_test_gray))\n",
    "\n",
    "\n",
    "#training method if using data augmentation\n",
    "batch_size=256\n",
    "history= model.fit_generator(datagen.flow(X_train_gray, Y_train, batch_size=batch_size),\\\n",
    "                    steps_per_epoch=X_train.shape[0] // batch_size,epochs=60,\\\n",
    "                    verbose=2, callbacks = [callbacks]\n",
    "                             ,validation_data=(X_test_gray,Y_test), validation_steps= len(X_test_gray)\n",
    "                            )"
   ]
  },
  {
   "cell_type": "markdown",
   "metadata": {},
   "source": [
    "### Get filter weights"
   ]
  },
  {
   "cell_type": "code",
   "execution_count": 25,
   "metadata": {},
   "outputs": [
    {
     "data": {
      "text/plain": [
       "array([0.6412154 , 0.51500636, 0.5911801 , 0.3547009 , 0.53174466,\n",
       "       0.5674237 , 0.5692752 , 0.61176544, 0.47280282, 0.5133312 ,\n",
       "       0.51642615, 0.5428278 , 0.5673159 , 0.60020745, 0.40974215,\n",
       "       0.6291777 , 0.5209447 , 0.41575468, 0.3517961 , 0.60250175,\n",
       "       0.592659  , 0.5199535 , 0.4548078 , 0.78492635, 0.61633193,\n",
       "       0.44379857, 0.5935533 , 0.55654246, 0.5097937 , 0.7492558 ,\n",
       "       0.42144305, 0.474224  , 0.461529  , 0.733363  , 0.4561056 ,\n",
       "       0.7259484 , 0.6815212 , 0.4909032 , 0.44641343, 0.52137554,\n",
       "       0.63985294, 0.44013283, 0.6232764 , 0.56062317, 0.5121252 ,\n",
       "       0.5062979 , 0.5901291 , 0.45625508, 0.3541209 , 0.37156725,\n",
       "       0.65100986, 0.5247029 , 0.34480926, 0.66122913, 0.49761355,\n",
       "       0.46740267, 0.36544907, 0.55707943, 0.4879926 , 0.75503445,\n",
       "       0.26602483, 0.41826507, 0.5212367 , 0.42321062], dtype=float32)"
      ]
     },
     "execution_count": 25,
     "metadata": {},
     "output_type": "execute_result"
    }
   ],
   "source": [
    "# retrieve weights from the first Convolution layer\n",
    "filters, biases = model.layers[0].get_weights()\n",
    "# normalize filter values to 0-1 so we can visualize them\n",
    "f_min, f_max = filters.min(), filters.max()\n",
    "filters = (filters - f_min) / (f_max - f_min)\n",
    "filters[0][0][0]"
   ]
  },
  {
   "cell_type": "code",
   "execution_count": 26,
   "metadata": {},
   "outputs": [
    {
     "data": {
      "image/png": "[encoded data removed]",
      "text/plain": [
       "<Figure size 432x288 with 5 Axes>"
      ]
     },
     "metadata": {},
     "output_type": "display_data"
    }
   ],
   "source": [
    "# plot first few filters\n",
    "n_filters, ix = 5, 1\n",
    "for i in range(n_filters):\n",
    "    # get the filter\n",
    "    f = filters[:, :, :, i]\n",
    "    # plot each channel separately\n",
    "    for j in range(1):\n",
    "        # specify subplot and turn of axis\n",
    "        ax = plt.subplot(n_filters, 5, ix)\n",
    "        ax.set_xticks([])\n",
    "        ax.set_yticks([])\n",
    "        # plot filter channel in grayscale\n",
    "        plt.imshow(f[:, :, j],cmap='gray')\n",
    "        ix += 1\n",
    "# show the figure\n",
    "plt.show()"
   ]
  },
  {
   "cell_type": "code",
   "execution_count": 27,
   "metadata": {},
   "outputs": [
    {
     "data": {
      "image/png": "[encoded data removed]",
      "text/plain": [
       "<Figure size 432x288 with 5 Axes>"
      ]
     },
     "metadata": {},
     "output_type": "display_data"
    }
   ],
   "source": [
    "# retrieve weights from the second convolution layer\n",
    "filters, biases = model.layers[2].get_weights()\n",
    "# normalize filter values to 0-1 so we can visualize them\n",
    "f_min, f_max = filters.min(), filters.max()\n",
    "filters = (filters - f_min) / (f_max - f_min)\n",
    "# plot first few filters\n",
    "n_filters, ix = 5, 1\n",
    "for i in range(n_filters):\n",
    "    # get the filter\n",
    "    f = filters[:, :, :, i]\n",
    "    # plot each channel separately\n",
    "    for j in range(1):\n",
    "        # specify subplot and turn of axis\n",
    "        ax = plt.subplot(n_filters, 5, ix)\n",
    "        ax.set_xticks([])\n",
    "        ax.set_yticks([])\n",
    "        # plot filter channel in grayscale\n",
    "        plt.imshow(f[:, :, j], cmap='gray')\n",
    "        ix += 1\n",
    "# show the figure\n",
    "plt.show()"
   ]
  },
  {
   "cell_type": "markdown",
   "metadata": {},
   "source": [
    "### Plot"
   ]
  },
  {
   "cell_type": "code",
   "execution_count": 28,
   "metadata": {},
   "outputs": [
    {
     "name": "stdout",
     "output_type": "stream",
     "text": [
      "dict_keys(['val_loss', 'val_accuracy', 'loss', 'accuracy'])\n"
     ]
    }
   ],
   "source": [
    "# list all data in history\n",
    "print(history.history.keys())"
   ]
  },
  {
   "cell_type": "code",
   "execution_count": 29,
   "metadata": {},
   "outputs": [
    {
     "data": {
      "image/png": "[encoded data removed]",
      "text/plain": [
       "<Figure size 432x288 with 1 Axes>"
      ]
     },
     "metadata": {
      "needs_background": "light"
     },
     "output_type": "display_data"
    }
   ],
   "source": [
    "# for plotting the training and validation accuracy\n",
    "plt.clf()\n",
    "Accuracy=[]\n",
    "Val_acc=[]\n",
    "accuracy = history.history['accuracy']\n",
    "Accuracy[:] = [x * 100 for x in accuracy]\n",
    "Accuracy = list(np.around(np.array(Accuracy),2))\n",
    "val_accuracy = history.history['val_accuracy']\n",
    "Val_acc[:] = [x * 100 for x in val_accuracy]\n",
    "Val_acc = list(np.around(np.array(Val_acc),2))\n",
    "epochs = range(1, len(accuracy) + 1)\n",
    "plt.plot(epochs, Accuracy, 'g', label='Training Accuracy')\n",
    "plt.plot(epochs, Val_acc, 'r', label='Testing Accuracy')\n",
    "plt.title('Training and Testing Accuracy')\n",
    "plt.xlabel('Epochs')\n",
    "plt.ylabel('Accuracy')\n",
    "plt.legend()\n",
    "plt.show()"
   ]
  },
  {
   "cell_type": "code",
   "execution_count": 30,
   "metadata": {},
   "outputs": [
    {
     "data": {
      "image/png": "[encoded data removed]",
      "text/plain": [
       "<Figure size 432x288 with 1 Axes>"
      ]
     },
     "metadata": {
      "needs_background": "light"
     },
     "output_type": "display_data"
    }
   ],
   "source": [
    "# summarize history for loss\n",
    "plt.plot(history.history['loss'], 'g')\n",
    "plt.plot(history.history['val_loss'], 'r')\n",
    "plt.title('Model Train and Test loss')\n",
    "plt.ylabel('Loss')\n",
    "plt.xlabel('Epoch')\n",
    "plt.legend(['Train', 'Test'], loc='upper left')\n",
    "plt.show()"
   ]
  },
  {
   "cell_type": "markdown",
   "metadata": {},
   "source": [
    "### Testing the grayscale model"
   ]
  },
  {
   "cell_type": "code",
   "execution_count": 31,
   "metadata": {},
   "outputs": [
    {
     "name": "stdout",
     "output_type": "stream",
     "text": [
      "10000/10000 [==============================] - 3s 276us/step\n",
      "Classification accuracy on the test set:: 76.84%\n"
     ]
    }
   ],
   "source": [
    "test_loss, test_accuracy = model.evaluate(X_test_gray,Y_test, batch_size=None)\n",
    "print('Classification accuracy on the test set:: {0:.2f}%'.format(test_accuracy*100.))"
   ]
  }
 ],
 "metadata": {
  "kernelspec": {
   "display_name": "Python 3",
   "language": "python",
   "name": "python3"
  },
  "language_info": {
   "codemirror_mode": {
    "name": "ipython",
    "version": 3
   },
   "file_extension": ".py",
   "mimetype": "text/x-python",
   "name": "python",
   "nbconvert_exporter": "python",
   "pygments_lexer": "ipython3",
   "version": "3.7.6"
  }
 },
 "nbformat": 4,
 "nbformat_minor": 4
}
