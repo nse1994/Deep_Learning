{
 "cells": [
  {
   "cell_type": "markdown",
   "metadata": {},
   "source": [
    "## HW1_Deep_Learning"
   ]
  },
  {
   "cell_type": "markdown",
   "metadata": {},
   "source": [
    "### Import Libraries"
   ]
  },
  {
   "cell_type": "code",
   "execution_count": 11,
   "metadata": {},
   "outputs": [],
   "source": [
    "import numpy as np\n",
    "import pandas as pd \n",
    "import matplotlib.pyplot as plt   \n",
    "%matplotlib inline\n",
    "# np.set_printoptions(suppress=True,\n",
    "#    formatter={'float_kind':'{:0.2f}'.format})"
   ]
  },
  {
   "cell_type": "markdown",
   "metadata": {},
   "source": [
    "### Load Dataset"
   ]
  },
  {
   "cell_type": "code",
   "execution_count": 12,
   "metadata": {},
   "outputs": [],
   "source": [
    "df = pd.read_csv(\"hw1_dataset.csv\")"
   ]
  },
  {
   "cell_type": "markdown",
   "metadata": {},
   "source": [
    "### Seperating Input and Output"
   ]
  },
  {
   "cell_type": "code",
   "execution_count": 13,
   "metadata": {
    "scrolled": true
   },
   "outputs": [
    {
     "data": {
      "text/html": [
       "<div>\n",
       "<style scoped>\n",
       "    .dataframe tbody tr th:only-of-type {\n",
       "        vertical-align: middle;\n",
       "    }\n",
       "\n",
       "    .dataframe tbody tr th {\n",
       "        vertical-align: top;\n",
       "    }\n",
       "\n",
       "    .dataframe thead th {\n",
       "        text-align: right;\n",
       "    }\n",
       "</style>\n",
       "<table border=\"1\" class=\"dataframe\">\n",
       "  <thead>\n",
       "    <tr style=\"text-align: right;\">\n",
       "      <th></th>\n",
       "      <th>x1</th>\n",
       "      <th>x2</th>\n",
       "      <th>x3</th>\n",
       "      <th>x4</th>\n",
       "      <th>x5</th>\n",
       "      <th>x6</th>\n",
       "      <th>x7</th>\n",
       "      <th>x8</th>\n",
       "      <th>x9</th>\n",
       "      <th>x10</th>\n",
       "      <th>x11</th>\n",
       "      <th>x12</th>\n",
       "      <th>x13</th>\n",
       "    </tr>\n",
       "  </thead>\n",
       "  <tbody>\n",
       "    <tr>\n",
       "      <th>0</th>\n",
       "      <td>63</td>\n",
       "      <td>1</td>\n",
       "      <td>1</td>\n",
       "      <td>145</td>\n",
       "      <td>233</td>\n",
       "      <td>1</td>\n",
       "      <td>2</td>\n",
       "      <td>150</td>\n",
       "      <td>0</td>\n",
       "      <td>2.3</td>\n",
       "      <td>3</td>\n",
       "      <td>0</td>\n",
       "      <td>6</td>\n",
       "    </tr>\n",
       "    <tr>\n",
       "      <th>1</th>\n",
       "      <td>67</td>\n",
       "      <td>1</td>\n",
       "      <td>4</td>\n",
       "      <td>160</td>\n",
       "      <td>286</td>\n",
       "      <td>0</td>\n",
       "      <td>2</td>\n",
       "      <td>108</td>\n",
       "      <td>1</td>\n",
       "      <td>1.5</td>\n",
       "      <td>2</td>\n",
       "      <td>3</td>\n",
       "      <td>3</td>\n",
       "    </tr>\n",
       "    <tr>\n",
       "      <th>2</th>\n",
       "      <td>67</td>\n",
       "      <td>1</td>\n",
       "      <td>4</td>\n",
       "      <td>120</td>\n",
       "      <td>229</td>\n",
       "      <td>0</td>\n",
       "      <td>2</td>\n",
       "      <td>129</td>\n",
       "      <td>1</td>\n",
       "      <td>2.6</td>\n",
       "      <td>2</td>\n",
       "      <td>2</td>\n",
       "      <td>7</td>\n",
       "    </tr>\n",
       "    <tr>\n",
       "      <th>3</th>\n",
       "      <td>37</td>\n",
       "      <td>1</td>\n",
       "      <td>3</td>\n",
       "      <td>130</td>\n",
       "      <td>250</td>\n",
       "      <td>0</td>\n",
       "      <td>0</td>\n",
       "      <td>187</td>\n",
       "      <td>0</td>\n",
       "      <td>3.5</td>\n",
       "      <td>3</td>\n",
       "      <td>0</td>\n",
       "      <td>3</td>\n",
       "    </tr>\n",
       "    <tr>\n",
       "      <th>4</th>\n",
       "      <td>41</td>\n",
       "      <td>0</td>\n",
       "      <td>2</td>\n",
       "      <td>130</td>\n",
       "      <td>204</td>\n",
       "      <td>0</td>\n",
       "      <td>2</td>\n",
       "      <td>172</td>\n",
       "      <td>0</td>\n",
       "      <td>1.4</td>\n",
       "      <td>1</td>\n",
       "      <td>0</td>\n",
       "      <td>3</td>\n",
       "    </tr>\n",
       "  </tbody>\n",
       "</table>\n",
       "</div>"
      ],
      "text/plain": [
       "   x1  x2  x3   x4   x5  x6  x7   x8  x9  x10  x11  x12  x13\n",
       "0  63   1   1  145  233   1   2  150   0  2.3    3    0    6\n",
       "1  67   1   4  160  286   0   2  108   1  1.5    2    3    3\n",
       "2  67   1   4  120  229   0   2  129   1  2.6    2    2    7\n",
       "3  37   1   3  130  250   0   0  187   0  3.5    3    0    3\n",
       "4  41   0   2  130  204   0   2  172   0  1.4    1    0    3"
      ]
     },
     "execution_count": 13,
     "metadata": {},
     "output_type": "execute_result"
    }
   ],
   "source": [
    "y= df['y']\n",
    "df_mod= df[['x1', 'x2','x3','x4', 'x5', 'x6','x7', 'x8','x9','x10', 'x11','x12', 'x13' ]]\n",
    "df_mod.head()"
   ]
  },
  {
   "cell_type": "markdown",
   "metadata": {},
   "source": [
    "### Normalize dataset"
   ]
  },
  {
   "cell_type": "code",
   "execution_count": 14,
   "metadata": {},
   "outputs": [],
   "source": [
    "# mean=np.mean(df_mod, axis=0)\n",
    "# std_dev=np.std(df_mod, axis=0)\n",
    "# df_mod=(df_mod-mean)/std_dev\n",
    "# df_mod= pd.concat([df_mod, y], axis=1,)# sort=False)"
   ]
  },
  {
   "cell_type": "code",
   "execution_count": 15,
   "metadata": {},
   "outputs": [
    {
     "data": {
      "text/html": [
       "<div>\n",
       "<style scoped>\n",
       "    .dataframe tbody tr th:only-of-type {\n",
       "        vertical-align: middle;\n",
       "    }\n",
       "\n",
       "    .dataframe tbody tr th {\n",
       "        vertical-align: top;\n",
       "    }\n",
       "\n",
       "    .dataframe thead th {\n",
       "        text-align: right;\n",
       "    }\n",
       "</style>\n",
       "<table border=\"1\" class=\"dataframe\">\n",
       "  <thead>\n",
       "    <tr style=\"text-align: right;\">\n",
       "      <th></th>\n",
       "      <th>x0</th>\n",
       "      <th>x1</th>\n",
       "      <th>x2</th>\n",
       "      <th>x3</th>\n",
       "      <th>x4</th>\n",
       "      <th>x5</th>\n",
       "      <th>x6</th>\n",
       "      <th>x7</th>\n",
       "      <th>x8</th>\n",
       "      <th>x9</th>\n",
       "      <th>x10</th>\n",
       "      <th>x11</th>\n",
       "      <th>x12</th>\n",
       "      <th>x13</th>\n",
       "    </tr>\n",
       "  </thead>\n",
       "  <tbody>\n",
       "    <tr>\n",
       "      <th>0</th>\n",
       "      <td>1</td>\n",
       "      <td>63</td>\n",
       "      <td>1</td>\n",
       "      <td>1</td>\n",
       "      <td>145</td>\n",
       "      <td>233</td>\n",
       "      <td>1</td>\n",
       "      <td>2</td>\n",
       "      <td>150</td>\n",
       "      <td>0</td>\n",
       "      <td>2.3</td>\n",
       "      <td>3</td>\n",
       "      <td>0</td>\n",
       "      <td>6</td>\n",
       "    </tr>\n",
       "    <tr>\n",
       "      <th>1</th>\n",
       "      <td>1</td>\n",
       "      <td>67</td>\n",
       "      <td>1</td>\n",
       "      <td>4</td>\n",
       "      <td>160</td>\n",
       "      <td>286</td>\n",
       "      <td>0</td>\n",
       "      <td>2</td>\n",
       "      <td>108</td>\n",
       "      <td>1</td>\n",
       "      <td>1.5</td>\n",
       "      <td>2</td>\n",
       "      <td>3</td>\n",
       "      <td>3</td>\n",
       "    </tr>\n",
       "    <tr>\n",
       "      <th>2</th>\n",
       "      <td>1</td>\n",
       "      <td>67</td>\n",
       "      <td>1</td>\n",
       "      <td>4</td>\n",
       "      <td>120</td>\n",
       "      <td>229</td>\n",
       "      <td>0</td>\n",
       "      <td>2</td>\n",
       "      <td>129</td>\n",
       "      <td>1</td>\n",
       "      <td>2.6</td>\n",
       "      <td>2</td>\n",
       "      <td>2</td>\n",
       "      <td>7</td>\n",
       "    </tr>\n",
       "    <tr>\n",
       "      <th>3</th>\n",
       "      <td>1</td>\n",
       "      <td>37</td>\n",
       "      <td>1</td>\n",
       "      <td>3</td>\n",
       "      <td>130</td>\n",
       "      <td>250</td>\n",
       "      <td>0</td>\n",
       "      <td>0</td>\n",
       "      <td>187</td>\n",
       "      <td>0</td>\n",
       "      <td>3.5</td>\n",
       "      <td>3</td>\n",
       "      <td>0</td>\n",
       "      <td>3</td>\n",
       "    </tr>\n",
       "    <tr>\n",
       "      <th>4</th>\n",
       "      <td>1</td>\n",
       "      <td>41</td>\n",
       "      <td>0</td>\n",
       "      <td>2</td>\n",
       "      <td>130</td>\n",
       "      <td>204</td>\n",
       "      <td>0</td>\n",
       "      <td>2</td>\n",
       "      <td>172</td>\n",
       "      <td>0</td>\n",
       "      <td>1.4</td>\n",
       "      <td>1</td>\n",
       "      <td>0</td>\n",
       "      <td>3</td>\n",
       "    </tr>\n",
       "  </tbody>\n",
       "</table>\n",
       "</div>"
      ],
      "text/plain": [
       "   x0  x1  x2  x3   x4   x5  x6  x7   x8  x9  x10  x11  x12  x13\n",
       "0   1  63   1   1  145  233   1   2  150   0  2.3    3    0    6\n",
       "1   1  67   1   4  160  286   0   2  108   1  1.5    2    3    3\n",
       "2   1  67   1   4  120  229   0   2  129   1  2.6    2    2    7\n",
       "3   1  37   1   3  130  250   0   0  187   0  3.5    3    0    3\n",
       "4   1  41   0   2  130  204   0   2  172   0  1.4    1    0    3"
      ]
     },
     "execution_count": 15,
     "metadata": {},
     "output_type": "execute_result"
    }
   ],
   "source": [
    "#insert x0, whose coefficient theta0 is 1\n",
    "df_mod.insert(0,\"x0\", 1) \n",
    "df_mod.head()"
   ]
  },
  {
   "cell_type": "markdown",
   "metadata": {},
   "source": [
    "### Shuffle"
   ]
  },
  {
   "cell_type": "code",
   "execution_count": 16,
   "metadata": {},
   "outputs": [],
   "source": [
    "# from sklearn.utils import shuffle\n",
    "# df = shuffle(df)"
   ]
  },
  {
   "cell_type": "code",
   "execution_count": 17,
   "metadata": {
    "scrolled": true
   },
   "outputs": [],
   "source": [
    "# #reset index from 0 to n\n",
    "# df.reset_index(drop=True)"
   ]
  },
  {
   "cell_type": "markdown",
   "metadata": {},
   "source": [
    "### Splitting Dataset into 5 folds"
   ]
  },
  {
   "cell_type": "code",
   "execution_count": 18,
   "metadata": {},
   "outputs": [],
   "source": [
    "# splitting df into 5 folds matrix\n",
    "df1= np.matrix(df_mod.loc[0:59])\n",
    "y1 = np.matrix(y.loc[0:59]).transpose()\n",
    "\n",
    "df2= np.matrix(df_mod.loc[60:119])\n",
    "y2 = np.matrix(y.loc[60:119]).transpose()\n",
    "\n",
    "df3= np.matrix(df_mod.loc[120:179])\n",
    "y3 = np.matrix(y.loc[120:179]).transpose()\n",
    "\n",
    "df4= np.matrix(df_mod.loc[180:239])\n",
    "y4 = np.matrix(y.loc[180:239]).transpose()\n",
    "\n",
    "df5= np.matrix(df_mod.loc[240:299])\n",
    "y5 = np.matrix(y.loc[240:299]).transpose()"
   ]
  },
  {
   "cell_type": "code",
   "execution_count": 19,
   "metadata": {},
   "outputs": [],
   "source": [
    "#fold 1 : df_fold1= trn, df4=val, df5=test\n",
    "df_fold1=np.concatenate([df1,df2,df3], axis=0)\n",
    "y_fold1= np.concatenate([y1,y2,y3], axis=0)\n",
    "#fold 2 : df_fold2= trn, df5=val, df1=test\n",
    "df_fold2=np.concatenate([df2,df3,df4], axis=0)\n",
    "y_fold2= np.concatenate([y2,y3,y4], axis=0)\n",
    "#fold 3 : df_fold3= trn, df1=val, df2=test\n",
    "df_fold3=np.concatenate([df3,df4,df5], axis=0)\n",
    "y_fold3= np.concatenate([y3,y4,y5], axis=0)\n",
    "#fold 4 : df_fold4= trn, df2=val, df3=test\n",
    "df_fold4=np.concatenate([df4,df5,df1], axis=0)\n",
    "y_fold4= np.concatenate([y1,y2,y3], axis=0)\n",
    "#fold 5 :df_fold5= trn, df3=val, df4=test\n",
    "df_fold5 =np.concatenate([df5,df1,df2], axis=0)\n",
    "y_fold5 = np.concatenate([y5,y1,y2], axis=0)"
   ]
  },
  {
   "cell_type": "code",
   "execution_count": 20,
   "metadata": {},
   "outputs": [],
   "source": [
    "# from sklearn.model_selection import train_test_split\n",
    "# #split dataset into 80% train(240) and 20% test data(60) set\n",
    "# X_train, X_test, y_train, y_test  = train_test_split(df_mod, y, test_size=.2, shuffle= False, random_state=42)\n",
    "# # #further split train dataset into 80% train validation(180) and 20% cross validation(60  )\n",
    "# train_valx, x_cv_test, train_valy, y_cv_test = train_test_split(X_train, y_train, test_size=0.25, shuffle= False, random_state=42)\n",
    "\n",
    "# print('Number of datapoints in train set: ', train_valx.shape[0])\n",
    "# print('Number of datapoints in validation set: ', x_cv_test.shape[0])\n",
    "# print('Number of datapoints in test set: ', X_test.shape[0])\n",
    "# print('Total number of datapoints:', df.shape[0])"
   ]
  },
  {
   "cell_type": "markdown",
   "metadata": {},
   "source": [
    "#### Hypothesis Function for logistic regression\n",
    "$$ h_\\theta (x) = \\frac{1}{1 + e^{-\\theta^{T}x}} $$\n",
    "\n",
    "#### Cost function:\n",
    "\n",
    "$$ J(\\theta) =  -\\frac{1}{m} \\sum_{i=1}^{m} [y^{(i)} log(h_\\theta (x^{(i)}))+ (1-y^{(i)})log(1-h_\\theta (x^{(i)}))]$$\n",
    "\n",
    "\n",
    "#### Weight update:\n",
    "$$ \\theta_j := \\theta_j +\\alpha \\frac{1}{m} \\sum_{i=1}^{m} (y^{(i)} - h_\\theta (x^{(i)}))x^{(i)}_j  $$\n"
   ]
  },
  {
   "cell_type": "markdown",
   "metadata": {},
   "source": [
    "### Fold1"
   ]
  },
  {
   "cell_type": "code",
   "execution_count": 21,
   "metadata": {
    "scrolled": false
   },
   "outputs": [],
   "source": [
    "#fold 1 : df_fold1= trn, df4=val, df5=tes\n",
    "thetaj =np.zeros((df_fold1.shape[1],1))#(14,1)\n",
    "iterations=1000\n",
    "m=180\n",
    "alpha= 0.00006\n",
    "cntr=0\n",
    "cost = np.zeros(shape=(1,iterations)) \n",
    "cost1 = np.zeros(shape=(1,iterations)) \n",
    "test_accuracy = np.zeros(shape=(1,iterations))\n",
    "\n",
    "for i in range(iterations):\n",
    "    #training\n",
    "    hypothesis = 1 /(1+ np.exp(-np.dot(df_fold1,thetaj)))#(180,1)\n",
    "    cost[0][i] = (-1/m) * np.sum(np.dot(y_fold1.T,np.log(hypothesis)) + np.dot((1-y_fold1).T,np.log(1-hypothesis)))\n",
    "    #validation\n",
    "    hypothesis1 = 1 /(1+ np.exp(-np.dot(df4,thetaj)))#(60,1) \n",
    "    cost1[0][i] = (-1/60) * np.sum(np.dot(y4.T,np.log(hypothesis1)) + np.dot((1-y4).T,np.log(1-hypothesis1)))\n",
    "    #early stopping criteria:\n",
    "    if (cost1[0][i]>cost[0][i]):\n",
    "        cntr+=1\n",
    "    if (cntr>10):\n",
    "        break     \n",
    "    hypothesis_test = 1.0 /(1+ np.exp(np.dot(df5,-thetaj)))\n",
    "    test_accuracy[0][i]=100-(np.mean(np.abs(np.round(hypothesis_test)-y5))*100)\n",
    "    #weight update\n",
    "    dot=np.dot((y_fold1-hypothesis).T, df_fold1).T\n",
    "    thetaj = thetaj+(alpha/m)*dot\n",
    "    \n",
    "\n",
    "# for i in range(60):\n",
    "#     if hypothesis_test[i]>0.5:\n",
    "#         hyp_matrix.append(1)\n",
    "#     else:\n",
    "#         hyp_matrix.append(0)\n",
    "# len(hyp_matrix)"
   ]
  },
  {
   "cell_type": "markdown",
   "metadata": {},
   "source": [
    "### Plot 1 \n",
    "#### Red= Training, Blue = Validation\n",
    "#### After Early stopping the accuracy will become zero as its intialized with zeros"
   ]
  },
  {
   "cell_type": "code",
   "execution_count": 22,
   "metadata": {},
   "outputs": [
    {
     "name": "stderr",
     "output_type": "stream",
     "text": [
      "No handles with labels found to put in legend.\n"
     ]
    },
    {
     "data": {
      "image/png": "[encoded data removed]",
      "text/plain": [
       "<Figure size 432x288 with 1 Axes>"
      ]
     },
     "metadata": {
      "needs_background": "light"
     },
     "output_type": "display_data"
    },
    {
     "data": {
      "text/plain": [
       "Text(0.5, 1.0, 'Accuracy')"
      ]
     },
     "execution_count": 22,
     "metadata": {},
     "output_type": "execute_result"
    },
    {
     "data": {
      "image/png": "[encoded data removed]",
      "text/plain": [
       "<Figure size 432x288 with 1 Axes>"
      ]
     },
     "metadata": {
      "needs_background": "light"
     },
     "output_type": "display_data"
    }
   ],
   "source": [
    "import pylab\n",
    "x= np.linspace(0,iterations-1,iterations)\n",
    "for i in range(iterations-1):\n",
    "    Training=plt.plot(x[i],cost[0][i],'r*' )\n",
    "    Validation= plt.plot(x[i],cost1[0][i],'b*')\n",
    "plt.ylabel('J (theta)')\n",
    "plt.xlabel('Iterations')\n",
    "plt.title('Cost function')\n",
    "plt.legend(loc= 'upper right')\n",
    "pylab.show()\n",
    "\n",
    "#Testing accuracy\n",
    "plt.plot(test_accuracy.T, label= 'Accuracy')\n",
    "pylab.legend()\n",
    "plt.ylabel('Accuracy')\n",
    "plt.xlabel('Iterations')\n",
    "plt.title('Accuracy')\n"
   ]
  },
  {
   "cell_type": "markdown",
   "metadata": {},
   "source": [
    "### Fold 2"
   ]
  },
  {
   "cell_type": "code",
   "execution_count": 23,
   "metadata": {},
   "outputs": [],
   "source": [
    "#fold 2 : df_fold2= trn, df5=val, df1=test\n",
    "thetaj =np.zeros((df_fold2.shape[1],1))#(14,1)\n",
    "iterations=100\n",
    "m=180\n",
    "alpha= 0.000006\n",
    "cntr=0\n",
    "cost2 = np.zeros(shape=(1,iterations)) \n",
    "cost3 = np.zeros(shape=(1,iterations)) \n",
    "test_accuracy2 = np.zeros(shape=(1,iterations))\n",
    "\n",
    "for i in range(iterations):\n",
    "    #training\n",
    "    hypothesis = 1 /(1+ np.exp(-np.dot(df_fold2,thetaj)))#(180,1)\n",
    "    cost2[0][i] = (-1/m) * np.sum(np.dot(y_fold2.T,np.log(hypothesis)) + np.dot((1-y_fold2).T,np.log(1-hypothesis)))\n",
    "    #validation\n",
    "    hypothesis1 = 1 /(1+ np.exp(-np.dot(df5,thetaj)))#(60,1) \n",
    "    cost3[0][i] = (-1/60) * np.sum(np.dot(y5.T,np.log(hypothesis1)) + np.dot((1-y5).T,np.log(1-hypothesis1)))\n",
    "    #early stopping criteria:\n",
    "    if (cost3[0][i]>cost2[0][i]):\n",
    "        cntr+=1\n",
    "    if (cntr>10):\n",
    "        break    \n",
    "    hypothesis_test = 1.0 /(1+ np.exp(np.dot(df1,-thetaj)))\n",
    "    test_accuracy2[0][i]=100-(np.mean(np.abs(np.round(hypothesis_test)-y1))*100)\n",
    "    #weight update\n",
    "    dot=np.dot((y_fold2-hypothesis).T, df_fold2).T\n",
    "    thetaj = thetaj+(alpha/m)*dot"
   ]
  },
  {
   "cell_type": "markdown",
   "metadata": {},
   "source": [
    "### Plot 2"
   ]
  },
  {
   "cell_type": "code",
   "execution_count": 24,
   "metadata": {},
   "outputs": [
    {
     "name": "stderr",
     "output_type": "stream",
     "text": [
      "No handles with labels found to put in legend.\n"
     ]
    },
    {
     "data": {
      "image/png": "[encoded data removed]",
      "text/plain": [
       "<Figure size 432x288 with 1 Axes>"
      ]
     },
     "metadata": {
      "needs_background": "light"
     },
     "output_type": "display_data"
    },
    {
     "data": {
      "text/plain": [
       "Text(0.5, 1.0, 'Accuracy')"
      ]
     },
     "execution_count": 24,
     "metadata": {},
     "output_type": "execute_result"
    },
    {
     "data": {
      "image/png": "[encoded data removed]",
      "text/plain": [
       "<Figure size 432x288 with 1 Axes>"
      ]
     },
     "metadata": {
      "needs_background": "light"
     },
     "output_type": "display_data"
    }
   ],
   "source": [
    "import pylab\n",
    "x= np.linspace(0,iterations-1,iterations)\n",
    "for i in range(iterations-1):\n",
    "    Training=plt.plot(x[i],cost2[0][i],'r*' )\n",
    "    Validation= plt.plot(x[i],cost3[0][i],'b*')\n",
    "plt.ylabel('J (theta)')\n",
    "plt.xlabel('Iterations')\n",
    "plt.title('Cost function')\n",
    "plt.legend(loc= 'upper right')\n",
    "pylab.show()\n",
    "\n",
    "#Testing accuracy\n",
    "plt.plot(test_accuracy2.T, label= 'Accuracy')\n",
    "pylab.legend()\n",
    "plt.ylabel('Accuracy')\n",
    "plt.xlabel('Iterations')\n",
    "plt.title('Accuracy')\n"
   ]
  },
  {
   "cell_type": "markdown",
   "metadata": {},
   "source": [
    "### Fold 3"
   ]
  },
  {
   "cell_type": "code",
   "execution_count": 25,
   "metadata": {},
   "outputs": [],
   "source": [
    "#fold 3 : df_fold3= trn, df1=val, df2=test\n",
    "thetaj =np.zeros((df_fold3.shape[1],1))#(14,1)\n",
    "iterations=100\n",
    "m=180\n",
    "alpha= 0.00006\n",
    "cntr=0\n",
    "cost4 = np.zeros(shape=(1,iterations)) \n",
    "cost5 = np.zeros(shape=(1,iterations)) \n",
    "test_accuracy3 = np.zeros(shape=(1,iterations))\n",
    "\n",
    "for i in range(iterations):\n",
    "    #training\n",
    "    hypothesis = 1 /(1+ np.exp(-np.dot(df_fold3,thetaj)))#(180,1)\n",
    "    cost4[0][i] = (-1/m) * np.sum(np.dot(y_fold3.T,np.log(hypothesis)) + np.dot((1-y_fold3).T,np.log(1-hypothesis)))\n",
    "    #validation\n",
    "    hypothesis1 = 1 /(1+ np.exp(-np.dot(df1,thetaj)))#(60,1) \n",
    "    cost5[0][i] = (-1/60) * np.sum(np.dot(y1.T,np.log(hypothesis1)) + np.dot((1-y1).T,np.log(1-hypothesis1)))\n",
    "    #early stopping criteria:\n",
    "    if (cost5[0][i]>cost4[0][i]):\n",
    "        cntr+=1\n",
    "    if (cntr>10):\n",
    "        break    \n",
    "    hypothesis_test = 1.0 /(1+ np.exp(np.dot(df2,-thetaj)))\n",
    "    test_accuracy3[0][i]=100-(np.mean(np.abs(np.round(hypothesis_test)-y2))*100)\n",
    "    #weight update\n",
    "    dot=np.dot((y_fold3-hypothesis).T, df_fold3).T\n",
    "    thetaj = thetaj+(alpha/m)*dot"
   ]
  },
  {
   "cell_type": "markdown",
   "metadata": {},
   "source": [
    "### Plot 3"
   ]
  },
  {
   "cell_type": "code",
   "execution_count": 26,
   "metadata": {},
   "outputs": [
    {
     "name": "stderr",
     "output_type": "stream",
     "text": [
      "No handles with labels found to put in legend.\n"
     ]
    },
    {
     "data": {
      "image/png": "[encoded data removed]",
      "text/plain": [
       "<Figure size 432x288 with 1 Axes>"
      ]
     },
     "metadata": {
      "needs_background": "light"
     },
     "output_type": "display_data"
    },
    {
     "data": {
      "text/plain": [
       "Text(0.5, 1.0, 'Accuracy')"
      ]
     },
     "execution_count": 26,
     "metadata": {},
     "output_type": "execute_result"
    },
    {
     "data": {
      "image/png": "[encoded data removed]",
      "text/plain": [
       "<Figure size 432x288 with 1 Axes>"
      ]
     },
     "metadata": {
      "needs_background": "light"
     },
     "output_type": "display_data"
    }
   ],
   "source": [
    "import pylab\n",
    "x= np.linspace(0,iterations-1,iterations)\n",
    "for i in range(iterations-1):\n",
    "    Training=plt.plot(x[i],cost4[0][i],'r*' )\n",
    "    Validation= plt.plot(x[i],cost5[0][i],'b*')\n",
    "plt.ylabel('J (theta)')\n",
    "plt.xlabel('Iterations')\n",
    "plt.title('Cost function')\n",
    "plt.legend(loc= 'upper right')\n",
    "pylab.show()\n",
    "\n",
    "#Testing accuracy\n",
    "plt.plot(test_accuracy3.T, label= 'Accuracy')\n",
    "pylab.legend()\n",
    "plt.ylabel('Accuracy')\n",
    "plt.xlabel('Iterations')\n",
    "plt.title('Accuracy')\n"
   ]
  },
  {
   "cell_type": "markdown",
   "metadata": {},
   "source": [
    "### Fold 4"
   ]
  },
  {
   "cell_type": "code",
   "execution_count": 27,
   "metadata": {},
   "outputs": [],
   "source": [
    "#fold 4 : df_fold4= trn, df2=val, df3=test\n",
    "thetaj =np.zeros((df_fold4.shape[1],1))#(14,1)\n",
    "iterations=100\n",
    "m=180\n",
    "alpha= 0.00001\n",
    "cntr=0\n",
    "cost6 = np.zeros(shape=(1,iterations)) \n",
    "cost7 = np.zeros(shape=(1,iterations)) \n",
    "test_accuracy4 = np.zeros(shape=(1,iterations))\n",
    "\n",
    "for i in range(iterations):\n",
    "    #training\n",
    "    hypothesis = 1 /(1+ np.exp(-np.dot(df_fold4,thetaj)))#(180,1)\n",
    "    cost6[0][i] = (-1/m) * np.sum(np.dot(y_fold4.T,np.log(hypothesis)) + np.dot((1-y_fold4).T,np.log(1-hypothesis)))\n",
    "    #validation\n",
    "    hypothesis1 = 1 /(1+ np.exp(-np.dot(df2,thetaj)))#(60,1) \n",
    "    cost7[0][i] = (-1/60) * np.sum(np.dot(y2.T,np.log(hypothesis1)) + np.dot((1-y2).T,np.log(1-hypothesis1)))\n",
    "    #early stopping criteria:\n",
    "    if (cost7[0][i]>cost6[0][i]):\n",
    "        cntr+=1\n",
    "    if (cntr>10):\n",
    "        break    \n",
    "    hypothesis_test = 1.0 /(1+ np.exp(np.dot(df3,-thetaj)))\n",
    "    test_accuracy4[0][i]=100-(np.mean(np.abs(np.round(hypothesis_test)-y3))*100)\n",
    "    #weight update\n",
    "    dot=np.dot((y_fold4-hypothesis).T, df_fold4).T\n",
    "    thetaj = thetaj+(alpha/m)*dot\n"
   ]
  },
  {
   "cell_type": "markdown",
   "metadata": {},
   "source": [
    "### Plot 4"
   ]
  },
  {
   "cell_type": "code",
   "execution_count": 28,
   "metadata": {},
   "outputs": [
    {
     "name": "stderr",
     "output_type": "stream",
     "text": [
      "No handles with labels found to put in legend.\n"
     ]
    },
    {
     "data": {
      "image/png": "[encoded data removed]",
      "text/plain": [
       "<Figure size 432x288 with 1 Axes>"
      ]
     },
     "metadata": {
      "needs_background": "light"
     },
     "output_type": "display_data"
    },
    {
     "data": {
      "text/plain": [
       "Text(0.5, 1.0, 'Accuracy')"
      ]
     },
     "execution_count": 28,
     "metadata": {},
     "output_type": "execute_result"
    },
    {
     "data": {
      "image/png": "[encoded data removed]",
      "text/plain": [
       "<Figure size 432x288 with 1 Axes>"
      ]
     },
     "metadata": {
      "needs_background": "light"
     },
     "output_type": "display_data"
    }
   ],
   "source": [
    "import pylab\n",
    "x= np.linspace(0,iterations-1,iterations)\n",
    "for i in range(iterations-1):\n",
    "    Training=plt.plot(x[i],cost6[0][i],'r*' )\n",
    "    Validation= plt.plot(x[i],cost7[0][i],'b*')\n",
    "plt.ylabel('J (theta)')\n",
    "plt.xlabel('Iterations')\n",
    "plt.title('Cost function')\n",
    "plt.legend(loc= 'upper right')\n",
    "pylab.show()\n",
    "\n",
    "#Testing accuracy\n",
    "plt.plot(test_accuracy4.T, label= 'Accuracy')\n",
    "pylab.legend()\n",
    "plt.ylabel('Accuracy')\n",
    "plt.xlabel('Iterations')\n",
    "plt.title('Accuracy')\n"
   ]
  },
  {
   "cell_type": "markdown",
   "metadata": {},
   "source": [
    "### Fold 5"
   ]
  },
  {
   "cell_type": "code",
   "execution_count": 29,
   "metadata": {},
   "outputs": [],
   "source": [
    "#fold 5 :df_fold5= trn, df3=val, df4=test\n",
    "thetaj =np.zeros((df_fold5.shape[1],1))#(14,1)\n",
    "iterations=1000\n",
    "m=180\n",
    "alpha= 0.00006\n",
    "cntr=0\n",
    "cost8 = np.zeros(shape=(1,iterations)) \n",
    "cost9 = np.zeros(shape=(1,iterations)) \n",
    "test_accuracy5 = np.zeros(shape=(1,iterations))\n",
    "\n",
    "for i in range(iterations):\n",
    "    #training\n",
    "    hypothesis = 1 /(1+ np.exp(-np.dot(df_fold5,thetaj)))#(180,1)\n",
    "    cost8[0][i] = (-1/m) * np.sum(np.dot(y_fold5.T,np.log10(hypothesis)) + np.dot((1-y_fold5).T,np.log10(1-hypothesis)))\n",
    "    #validation\n",
    "    hypothesis1 = 1 /(1+ np.exp(-np.dot(df3,thetaj)))#(60,1) \n",
    "    cost9[0][i] = (-1/60) * np.sum(np.dot(y3.T,np.log10(hypothesis1)) + np.dot((1-y3).T,np.log10(1-hypothesis1)))\n",
    "    #early stopping criteria:\n",
    "    if (cost9[0][i]>cost8[0][i]):\n",
    "        cntr+=1\n",
    "    if (cntr>10):\n",
    "        break    \n",
    "    hypothesis_test = 1.0 /(1+ np.exp(np.dot(df4,-thetaj)))\n",
    "    test_accuracy5[0][i]=100-(np.mean(np.abs(np.round(hypothesis_test)-y4))*100)\n",
    "    #weight update\n",
    "    dot=np.dot((y_fold5-hypothesis).T, df_fold5).T\n",
    "    thetaj = thetaj+(alpha/m)*dot"
   ]
  },
  {
   "cell_type": "markdown",
   "metadata": {},
   "source": [
    "### Plot 5"
   ]
  },
  {
   "cell_type": "code",
   "execution_count": 30,
   "metadata": {},
   "outputs": [
    {
     "name": "stderr",
     "output_type": "stream",
     "text": [
      "No handles with labels found to put in legend.\n"
     ]
    },
    {
     "data": {
      "image/png": "[encoded data removed]",
      "text/plain": [
       "<Figure size 432x288 with 1 Axes>"
      ]
     },
     "metadata": {
      "needs_background": "light"
     },
     "output_type": "display_data"
    },
    {
     "data": {
      "text/plain": [
       "Text(0.5, 1.0, 'Accuracy')"
      ]
     },
     "execution_count": 30,
     "metadata": {},
     "output_type": "execute_result"
    },
    {
     "data": {
      "image/png": "[encoded data removed]",
      "text/plain": [
       "<Figure size 432x288 with 1 Axes>"
      ]
     },
     "metadata": {
      "needs_background": "light"
     },
     "output_type": "display_data"
    }
   ],
   "source": [
    "import pylab\n",
    "x= np.linspace(0,iterations-1,iterations)\n",
    "for i in range(iterations-1):\n",
    "    Training=plt.plot(x[i],cost8[0][i],'r*' )\n",
    "    Validation= plt.plot(x[i],cost9[0][i],'b*')\n",
    "plt.ylabel('J (theta)')\n",
    "plt.xlabel('Iterations')\n",
    "plt.title('Cost function')\n",
    "plt.legend(loc= 'upper right')\n",
    "pylab.show()\n",
    "\n",
    "#Testing accuracy\n",
    "plt.plot(test_accuracy5.T, label= 'Accuracy')\n",
    "pylab.legend()\n",
    "plt.ylabel('Accuracy')\n",
    "plt.xlabel('Iterations')\n",
    "plt.title('Accuracy')\n"
   ]
  },
  {
   "cell_type": "markdown",
   "metadata": {},
   "source": [
    "### For Second Feature set"
   ]
  },
  {
   "cell_type": "code",
   "execution_count": 31,
   "metadata": {},
   "outputs": [],
   "source": [
    "y= df['y']\n",
    "df_mod= df[['x1','x4', 'x5', 'x6', 'x8','x10']]\n",
    "df_mod.insert(0,\"x0\", 1) "
   ]
  },
  {
   "cell_type": "code",
   "execution_count": 32,
   "metadata": {},
   "outputs": [],
   "source": [
    "# splitting df into 5 folds matrix\n",
    "df1= np.matrix(df_mod.loc[0:59])\n",
    "y1 = np.matrix(y.loc[0:59]).transpose()\n",
    "\n",
    "df2= np.matrix(df_mod.loc[60:119])\n",
    "y2 = np.matrix(y.loc[60:119]).transpose()\n",
    "\n",
    "df3= np.matrix(df_mod.loc[120:179])\n",
    "y3 = np.matrix(y.loc[120:179]).transpose()\n",
    "\n",
    "df4= np.matrix(df_mod.loc[180:239])\n",
    "y4 = np.matrix(y.loc[180:239]).transpose()\n",
    "\n",
    "df5= np.matrix(df_mod.loc[240:299])\n",
    "y5 = np.matrix(y.loc[240:299]).transpose()\n",
    "\n",
    "#fold 1 : df_fold1= trn, df4=val, df5=test\n",
    "df_fold1=np.concatenate([df1,df2,df3], axis=0)\n",
    "y_fold1= np.concatenate([y1,y2,y3], axis=0)\n",
    "#fold 2 : df_fold2= trn, df5=val, df1=test\n",
    "df_fold2=np.concatenate([df2,df3,df4], axis=0)\n",
    "y_fold2= np.concatenate([y2,y3,y4], axis=0)\n",
    "#fold 3 : df_fold3= trn, df1=val, df2=test\n",
    "df_fold3=np.concatenate([df3,df4,df5], axis=0)\n",
    "y_fold3= np.concatenate([y3,y4,y5], axis=0)\n",
    "#fold 4 : df_fold4= trn, df2=val, df3=test\n",
    "df_fold4=np.concatenate([df4,df5,df1], axis=0)\n",
    "y_fold4= np.concatenate([y1,y2,y3], axis=0)\n",
    "#fold 5 :df_fold5= trn, df3=val, df4=test\n",
    "df_fold5 =np.concatenate([df5,df1,df2], axis=0)\n",
    "y_fold5 = np.concatenate([y5,y1,y2], axis=0)"
   ]
  },
  {
   "cell_type": "markdown",
   "metadata": {},
   "source": [
    "### Fold1- Set2"
   ]
  },
  {
   "cell_type": "code",
   "execution_count": 33,
   "metadata": {},
   "outputs": [
    {
     "name": "stderr",
     "output_type": "stream",
     "text": [
      "No handles with labels found to put in legend.\n"
     ]
    },
    {
     "data": {
      "image/png": "[encoded data removed]",
      "text/plain": [
       "<Figure size 432x288 with 1 Axes>"
      ]
     },
     "metadata": {
      "needs_background": "light"
     },
     "output_type": "display_data"
    },
    {
     "data": {
      "text/plain": [
       "Text(0.5, 1.0, 'Accuracy')"
      ]
     },
     "execution_count": 33,
     "metadata": {},
     "output_type": "execute_result"
    },
    {
     "data": {
      "image/png": "[encoded data removed]",
      "text/plain": [
       "<Figure size 432x288 with 1 Axes>"
      ]
     },
     "metadata": {
      "needs_background": "light"
     },
     "output_type": "display_data"
    }
   ],
   "source": [
    "#fold 1 : df_fold1= trn, df4=val, df5=tes\n",
    "thetaj =np.zeros((df_fold1.shape[1],1))#(14,1)\n",
    "iterations=1000\n",
    "m=180\n",
    "alpha= 0.00006\n",
    "cntr=0\n",
    "cost = np.zeros(shape=(1,iterations)) \n",
    "cost1 = np.zeros(shape=(1,iterations)) \n",
    "test_accuracy = np.zeros(shape=(1,iterations))\n",
    "\n",
    "for i in range(iterations):\n",
    "    #training\n",
    "    hypothesis = 1 /(1+ np.exp(-np.dot(df_fold1,thetaj)))#(180,1)\n",
    "    cost[0][i] = (-1/m) * np.sum(np.dot(y_fold1.T,np.log(hypothesis)) + np.dot((1-y_fold1).T,np.log(1-hypothesis)))\n",
    "    #validation\n",
    "    hypothesis1 = 1 /(1+ np.exp(-np.dot(df4,thetaj)))#(60,1) \n",
    "    cost1[0][i] = (-1/60) * np.sum(np.dot(y4.T,np.log(hypothesis1)) + np.dot((1-y4).T,np.log(1-hypothesis1)))\n",
    "    #early stopping criteria:\n",
    "    if (cost1[0][i]>cost[0][i]):\n",
    "        cntr+=1\n",
    "    if (cntr>10):\n",
    "        break     \n",
    "    hypothesis_test = 1.0 /(1+ np.exp(np.dot(df5,-thetaj)))\n",
    "    test_accuracy[0][i]=100-(np.mean(np.abs(np.round(hypothesis_test)-y5))*100)\n",
    "    #weight update\n",
    "    dot=np.dot((y_fold1-hypothesis).T, df_fold1).T\n",
    "    thetaj = thetaj+(alpha/m)*dot\n",
    "    \n",
    "#plot\n",
    "import pylab\n",
    "x= np.linspace(0,iterations-1,iterations)\n",
    "for i in range(iterations-1):\n",
    "    Training=plt.plot(x[i],cost[0][i],'r*' )\n",
    "    Validation= plt.plot(x[i],cost1[0][i],'b*')\n",
    "plt.ylabel('J (theta)')\n",
    "plt.xlabel('Iterations')\n",
    "plt.title('Cost function')\n",
    "plt.legend(loc= 'upper right')\n",
    "pylab.show()\n",
    "\n",
    "#Testing accuracy\n",
    "plt.plot(test_accuracy.T, label= 'Accuracy')\n",
    "pylab.legend()\n",
    "plt.ylabel('Accuracy')\n",
    "plt.xlabel('Iterations')\n",
    "plt.title('Accuracy')\n"
   ]
  },
  {
   "cell_type": "markdown",
   "metadata": {},
   "source": [
    "### Fold2- Set2"
   ]
  },
  {
   "cell_type": "code",
   "execution_count": 34,
   "metadata": {},
   "outputs": [
    {
     "name": "stderr",
     "output_type": "stream",
     "text": [
      "No handles with labels found to put in legend.\n"
     ]
    },
    {
     "data": {
      "image/png": "[encoded data removed]",
      "text/plain": [
       "<Figure size 432x288 with 1 Axes>"
      ]
     },
     "metadata": {
      "needs_background": "light"
     },
     "output_type": "display_data"
    },
    {
     "data": {
      "text/plain": [
       "Text(0.5, 1.0, 'Accuracy')"
      ]
     },
     "execution_count": 34,
     "metadata": {},
     "output_type": "execute_result"
    },
    {
     "data": {
      "image/png": "[encoded data removed]",
      "text/plain": [
       "<Figure size 432x288 with 1 Axes>"
      ]
     },
     "metadata": {
      "needs_background": "light"
     },
     "output_type": "display_data"
    }
   ],
   "source": [
    "#fold 2 : df_fold2= trn, df5=val, df1=test\n",
    "thetaj =np.zeros((df_fold2.shape[1],1))#(14,1)\n",
    "iterations=100\n",
    "m=180\n",
    "alpha= 0.000006\n",
    "cntr=0\n",
    "cost2 = np.zeros(shape=(1,iterations)) \n",
    "cost3 = np.zeros(shape=(1,iterations)) \n",
    "test_accuracy2 = np.zeros(shape=(1,iterations))\n",
    "\n",
    "for i in range(iterations):\n",
    "    #training\n",
    "    hypothesis = 1 /(1+ np.exp(-np.dot(df_fold2,thetaj)))#(180,1)\n",
    "    cost2[0][i] = (-1/m) * np.sum(np.dot(y_fold2.T,np.log(hypothesis)) + np.dot((1-y_fold2).T,np.log(1-hypothesis)))\n",
    "    #validation\n",
    "    hypothesis1 = 1 /(1+ np.exp(-np.dot(df5,thetaj)))#(60,1) \n",
    "    cost3[0][i] = (-1/60) * np.sum(np.dot(y5.T,np.log(hypothesis1)) + np.dot((1-y5).T,np.log(1-hypothesis1)))\n",
    "    #early stopping criteria:\n",
    "    if (cost3[0][i]>cost2[0][i]):\n",
    "        cntr+=1\n",
    "    if (cntr>10):\n",
    "        break    \n",
    "    hypothesis_test = 1.0 /(1+ np.exp(np.dot(df1,-thetaj)))\n",
    "    test_accuracy2[0][i]=100-(np.mean(np.abs(np.round(hypothesis_test)-y1))*100)\n",
    "    #weight update\n",
    "    dot=np.dot((y_fold2-hypothesis).T, df_fold2).T\n",
    "    thetaj = thetaj+(alpha/m)*dot\n",
    "    \n",
    "#plot\n",
    "import pylab\n",
    "x= np.linspace(0,iterations-1,iterations)\n",
    "for i in range(iterations-1):\n",
    "    Training=plt.plot(x[i],cost2[0][i],'r*' )\n",
    "    Validation= plt.plot(x[i],cost3[0][i],'b*')\n",
    "plt.ylabel('J (theta)')\n",
    "plt.xlabel('Iterations')\n",
    "plt.title('Cost function')\n",
    "plt.legend(loc= 'upper right')\n",
    "pylab.show()\n",
    "\n",
    "#Testing accuracy\n",
    "plt.plot(test_accuracy2.T, label= 'Accuracy')\n",
    "pylab.legend()\n",
    "plt.ylabel('Accuracy')\n",
    "plt.xlabel('Iterations')\n",
    "plt.title('Accuracy')\n"
   ]
  },
  {
   "cell_type": "markdown",
   "metadata": {},
   "source": [
    "### Fold 3- Set2"
   ]
  },
  {
   "cell_type": "code",
   "execution_count": 35,
   "metadata": {},
   "outputs": [
    {
     "name": "stderr",
     "output_type": "stream",
     "text": [
      "No handles with labels found to put in legend.\n"
     ]
    },
    {
     "data": {
      "image/png": "[encoded data removed]",
      "text/plain": [
       "<Figure size 432x288 with 1 Axes>"
      ]
     },
     "metadata": {
      "needs_background": "light"
     },
     "output_type": "display_data"
    },
    {
     "data": {
      "text/plain": [
       "Text(0.5, 1.0, 'Accuracy')"
      ]
     },
     "execution_count": 35,
     "metadata": {},
     "output_type": "execute_result"
    },
    {
     "data": {
      "image/png": "[encoded data removed]",
      "text/plain": [
       "<Figure size 432x288 with 1 Axes>"
      ]
     },
     "metadata": {
      "needs_background": "light"
     },
     "output_type": "display_data"
    }
   ],
   "source": [
    "#fold 3 : df_fold3= trn, df1=val, df2=test\n",
    "thetaj =np.zeros((df_fold3.shape[1],1))#(14,1)\n",
    "iterations=100\n",
    "m=180\n",
    "alpha= 0.00006\n",
    "cntr=0\n",
    "cost4 = np.zeros(shape=(1,iterations)) \n",
    "cost5 = np.zeros(shape=(1,iterations)) \n",
    "test_accuracy3 = np.zeros(shape=(1,iterations))\n",
    "\n",
    "for i in range(iterations):\n",
    "    #training\n",
    "    hypothesis = 1 /(1+ np.exp(-np.dot(df_fold3,thetaj)))#(180,1)\n",
    "    cost4[0][i] = (-1/m) * np.sum(np.dot(y_fold3.T,np.log(hypothesis)) + np.dot((1-y_fold3).T,np.log(1-hypothesis)))\n",
    "    #validation\n",
    "    hypothesis1 = 1 /(1+ np.exp(-np.dot(df1,thetaj)))#(60,1) \n",
    "    cost5[0][i] = (-1/60) * np.sum(np.dot(y1.T,np.log(hypothesis1)) + np.dot((1-y1).T,np.log(1-hypothesis1)))\n",
    "    #early stopping criteria:\n",
    "    if (cost5[0][i]>cost4[0][i]):\n",
    "        cntr+=1\n",
    "    if (cntr>10):\n",
    "        break    \n",
    "    hypothesis_test = 1.0 /(1+ np.exp(np.dot(df2,-thetaj)))\n",
    "    test_accuracy3[0][i]=100-(np.mean(np.abs(np.round(hypothesis_test)-y2))*100)\n",
    "    #weight update\n",
    "    dot=np.dot((y_fold3-hypothesis).T, df_fold3).T\n",
    "    thetaj = thetaj+(alpha/m)*dot\n",
    "    \n",
    "#plot\n",
    "import pylab\n",
    "x= np.linspace(0,iterations-1,iterations)\n",
    "for i in range(iterations-1):\n",
    "    Training=plt.plot(x[i],cost4[0][i],'r*' )\n",
    "    Validation= plt.plot(x[i],cost5[0][i],'b*')\n",
    "plt.ylabel('J (theta)')\n",
    "plt.xlabel('Iterations')\n",
    "plt.title('Cost function')\n",
    "plt.legend(loc= 'upper right')\n",
    "pylab.show()\n",
    "\n",
    "#Testing accuracy\n",
    "plt.plot(test_accuracy3.T, label= 'Accuracy')\n",
    "pylab.legend()\n",
    "plt.ylabel('Accuracy')\n",
    "plt.xlabel('Iterations')\n",
    "plt.title('Accuracy')\n",
    "\n"
   ]
  },
  {
   "cell_type": "markdown",
   "metadata": {},
   "source": [
    "### Fold 4- Set2"
   ]
  },
  {
   "cell_type": "code",
   "execution_count": 36,
   "metadata": {},
   "outputs": [
    {
     "name": "stderr",
     "output_type": "stream",
     "text": [
      "No handles with labels found to put in legend.\n"
     ]
    },
    {
     "data": {
      "image/png": "[encoded data removed]",
      "text/plain": [
       "<Figure size 432x288 with 1 Axes>"
      ]
     },
     "metadata": {
      "needs_background": "light"
     },
     "output_type": "display_data"
    },
    {
     "data": {
      "text/plain": [
       "Text(0.5, 1.0, 'Accuracy')"
      ]
     },
     "execution_count": 36,
     "metadata": {},
     "output_type": "execute_result"
    },
    {
     "data": {
      "image/png": "[encoded data removed]",
      "text/plain": [
       "<Figure size 432x288 with 1 Axes>"
      ]
     },
     "metadata": {
      "needs_background": "light"
     },
     "output_type": "display_data"
    }
   ],
   "source": [
    "#fold 4 : df_fold4= trn, df2=val, df3=test\n",
    "thetaj =np.zeros((df_fold4.shape[1],1))#(14,1)\n",
    "iterations=100\n",
    "m=180\n",
    "alpha= 0.00001\n",
    "cntr=0\n",
    "cost6 = np.zeros(shape=(1,iterations)) \n",
    "cost7 = np.zeros(shape=(1,iterations)) \n",
    "test_accuracy4 = np.zeros(shape=(1,iterations))\n",
    "\n",
    "for i in range(iterations):\n",
    "    #training\n",
    "    hypothesis = 1 /(1+ np.exp(-np.dot(df_fold4,thetaj)))#(180,1)\n",
    "    cost6[0][i] = (-1/m) * np.sum(np.dot(y_fold4.T,np.log(hypothesis)) + np.dot((1-y_fold4).T,np.log(1-hypothesis)))\n",
    "    #validation\n",
    "    hypothesis1 = 1 /(1+ np.exp(-np.dot(df2,thetaj)))#(60,1) \n",
    "    cost7[0][i] = (-1/60) * np.sum(np.dot(y2.T,np.log(hypothesis1)) + np.dot((1-y2).T,np.log(1-hypothesis1)))\n",
    "    #early stopping criteria:\n",
    "    if (cost7[0][i]>cost6[0][i]):\n",
    "        cntr+=1\n",
    "    if (cntr>10):\n",
    "        break    \n",
    "    hypothesis_test = 1.0 /(1+ np.exp(np.dot(df3,-thetaj)))\n",
    "    test_accuracy4[0][i]=100-(np.mean(np.abs(np.round(hypothesis_test)-y3))*100)\n",
    "    #weight update\n",
    "    dot=np.dot((y_fold4-hypothesis).T, df_fold4).T\n",
    "    thetaj = thetaj+(alpha/m)*dot\n",
    "\n",
    "#plot\n",
    "import pylab\n",
    "x= np.linspace(0,iterations-1,iterations)\n",
    "for i in range(iterations-1):\n",
    "    Training=plt.plot(x[i],cost6[0][i],'r*' )\n",
    "    Validation= plt.plot(x[i],cost7[0][i],'b*')\n",
    "plt.ylabel('J (theta)')\n",
    "plt.xlabel('Iterations')\n",
    "plt.title('Cost function')\n",
    "plt.legend(loc= 'upper right')\n",
    "pylab.show()\n",
    "\n",
    "#Testing accuracy\n",
    "plt.plot(test_accuracy4.T, label= 'Accuracy')\n",
    "pylab.legend()\n",
    "plt.ylabel('Accuracy')\n",
    "plt.xlabel('Iterations')\n",
    "plt.title('Accuracy')\n"
   ]
  },
  {
   "cell_type": "markdown",
   "metadata": {},
   "source": [
    "### Fold 5- Set2"
   ]
  },
  {
   "cell_type": "code",
   "execution_count": 34,
   "metadata": {},
   "outputs": [
    {
     "name": "stderr",
     "output_type": "stream",
     "text": [
      "No handles with labels found to put in legend.\n"
     ]
    },
    {
     "data": {
      "image/png": "[encoded data removed]",
      "text/plain": [
       "<Figure size 432x288 with 1 Axes>"
      ]
     },
     "metadata": {
      "needs_background": "light"
     },
     "output_type": "display_data"
    },
    {
     "data": {
      "text/plain": [
       "Text(0.5, 1.0, 'Accuracy')"
      ]
     },
     "execution_count": 34,
     "metadata": {},
     "output_type": "execute_result"
    },
    {
     "data": {
      "image/png": "[encoded data removed]",
      "text/plain": [
       "<Figure size 432x288 with 1 Axes>"
      ]
     },
     "metadata": {
      "needs_background": "light"
     },
     "output_type": "display_data"
    }
   ],
   "source": [
    "#fold 5 :df_fold5= trn, df3=val, df4=test\n",
    "thetaj =np.zeros((df_fold5.shape[1],1))#(14,1)\n",
    "iterations=1000\n",
    "m=180\n",
    "alpha= 0.00006\n",
    "cntr=0\n",
    "cost8 = np.zeros(shape=(1,iterations)) \n",
    "cost9 = np.zeros(shape=(1,iterations)) \n",
    "test_accuracy5 = np.zeros(shape=(1,iterations))\n",
    "\n",
    "for i in range(iterations):\n",
    "    #training\n",
    "    hypothesis = 1 /(1+ np.exp(-np.dot(df_fold5,thetaj)))#(180,1)\n",
    "    cost8[0][i] = (-1/m) * np.sum(np.dot(y_fold5.T,np.log10(hypothesis)) + np.dot((1-y_fold5).T,np.log10(1-hypothesis)))\n",
    "    #validation\n",
    "    hypothesis1 = 1 /(1+ np.exp(-np.dot(df3,thetaj)))#(60,1) \n",
    "    cost9[0][i] = (-1/60) * np.sum(np.dot(y3.T,np.log10(hypothesis1)) + np.dot((1-y3).T,np.log10(1-hypothesis1)))\n",
    "    #early stopping criteria:\n",
    "    if (cost9[0][i]>cost8[0][i]):\n",
    "        cntr+=1\n",
    "    if (cntr>10):\n",
    "        break    \n",
    "    hypothesis_test = 1.0 /(1+ np.exp(np.dot(df4,-thetaj)))\n",
    "    test_accuracy5[0][i]=100-(np.mean(np.abs(np.round(hypothesis_test)-y4))*100)\n",
    "    #weight update\n",
    "    dot=np.dot((y_fold5-hypothesis).T, df_fold5).T\n",
    "    thetaj = thetaj+(alpha/m)*dot\n",
    "#plot\n",
    "import pylab\n",
    "x= np.linspace(0,iterations-1,iterations)\n",
    "for i in range(iterations-1):\n",
    "    Training=plt.plot(x[i],cost8[0][i],'r*' )\n",
    "    Validation= plt.plot(x[i],cost9[0][i],'b*')\n",
    "plt.ylabel('J (theta)')\n",
    "plt.xlabel('Iterations')\n",
    "plt.title('Cost function')\n",
    "plt.legend(loc= 'upper right')\n",
    "pylab.show()\n",
    "\n",
    "#Testing accuracy\n",
    "plt.plot(test_accuracy5.T, label= 'Accuracy')\n",
    "pylab.legend()\n",
    "plt.ylabel('Accuracy')\n",
    "plt.xlabel('Iterations')\n",
    "plt.title('Accuracy')\n"
   ]
  },
  {
   "cell_type": "markdown",
   "metadata": {},
   "source": [
    "### For 3rd feature set "
   ]
  },
  {
   "cell_type": "code",
   "execution_count": 41,
   "metadata": {},
   "outputs": [],
   "source": [
    "y= df['y']\n",
    "df_mod= df[['x2', 'x6', 'x7', 'x9','x11','x12', 'x13']]\n",
    "df_mod.insert(0,\"x0\", 1) "
   ]
  },
  {
   "cell_type": "code",
   "execution_count": 42,
   "metadata": {},
   "outputs": [],
   "source": [
    "# splitting df into 5 folds matrix\n",
    "df1= np.matrix(df_mod.loc[0:59])\n",
    "y1 = np.matrix(y.loc[0:59]).transpose()\n",
    "\n",
    "df2= np.matrix(df_mod.loc[60:119])\n",
    "y2 = np.matrix(y.loc[60:119]).transpose()\n",
    "\n",
    "df3= np.matrix(df_mod.loc[120:179])\n",
    "y3 = np.matrix(y.loc[120:179]).transpose()\n",
    "\n",
    "df4= np.matrix(df_mod.loc[180:239])\n",
    "y4 = np.matrix(y.loc[180:239]).transpose()\n",
    "\n",
    "df5= np.matrix(df_mod.loc[240:299])\n",
    "y5 = np.matrix(y.loc[240:299]).transpose()\n",
    "\n",
    "#fold 1 : df_fold1= trn, df4=val, df5=test\n",
    "df_fold1=np.concatenate([df1,df2,df3], axis=0)\n",
    "y_fold1= np.concatenate([y1,y2,y3], axis=0)\n",
    "#fold 2 : df_fold2= trn, df5=val, df1=test\n",
    "df_fold2=np.concatenate([df2,df3,df4], axis=0)\n",
    "y_fold2= np.concatenate([y2,y3,y4], axis=0)\n",
    "#fold 3 : df_fold3= trn, df1=val, df2=test\n",
    "df_fold3=np.concatenate([df3,df4,df5], axis=0)\n",
    "y_fold3= np.concatenate([y3,y4,y5], axis=0)\n",
    "#fold 4 : df_fold4= trn, df2=val, df3=test\n",
    "df_fold4=np.concatenate([df4,df5,df1], axis=0)\n",
    "y_fold4= np.concatenate([y1,y2,y3], axis=0)\n",
    "#fold 5 :df_fold5= trn, df3=val, df4=test\n",
    "df_fold5 =np.concatenate([df5,df1,df2], axis=0)\n",
    "y_fold5 = np.concatenate([y5,y1,y2], axis=0)"
   ]
  },
  {
   "cell_type": "markdown",
   "metadata": {},
   "source": [
    "### Fold 1- Set3"
   ]
  },
  {
   "cell_type": "code",
   "execution_count": 53,
   "metadata": {},
   "outputs": [
    {
     "name": "stderr",
     "output_type": "stream",
     "text": [
      "No handles with labels found to put in legend.\n"
     ]
    },
    {
     "data": {
      "image/png": "[encoded data removed]",
      "text/plain": [
       "<Figure size 432x288 with 1 Axes>"
      ]
     },
     "metadata": {
      "needs_background": "light"
     },
     "output_type": "display_data"
    },
    {
     "data": {
      "text/plain": [
       "Text(0.5, 1.0, 'Accuracy')"
      ]
     },
     "execution_count": 53,
     "metadata": {},
     "output_type": "execute_result"
    },
    {
     "data": {
      "image/png": "[encoded data removed]",
      "text/plain": [
       "<Figure size 432x288 with 1 Axes>"
      ]
     },
     "metadata": {
      "needs_background": "light"
     },
     "output_type": "display_data"
    }
   ],
   "source": [
    "#fold 1 : df_fold1= trn, df4=val, df5=tes\n",
    "thetaj =np.zeros((df_fold1.shape[1],1))#(14,1)\n",
    "iterations=100\n",
    "m=180\n",
    "alpha= 0.02\n",
    "cntr=0\n",
    "cost = np.zeros(shape=(1,iterations)) \n",
    "cost1 = np.zeros(shape=(1,iterations)) \n",
    "test_accuracy = np.zeros(shape=(1,iterations))\n",
    "\n",
    "for i in range(iterations):\n",
    "    #training\n",
    "    hypothesis = 1 /(1+ np.exp(-np.dot(df_fold1,thetaj)))#(180,1)\n",
    "    cost[0][i] = (-1/m) * np.sum(np.dot(y_fold1.T,np.log(hypothesis)) + np.dot((1-y_fold1).T,np.log(1-hypothesis)))\n",
    "    #validation\n",
    "    hypothesis1 = 1 /(1+ np.exp(-np.dot(df4,thetaj)))#(60,1) \n",
    "    cost1[0][i] = (-1/60) * np.sum(np.dot(y4.T,np.log(hypothesis1)) + np.dot((1-y4).T,np.log(1-hypothesis1)))\n",
    "    #early stopping criteria:\n",
    "#     if (cost1[0][i]>cost[0][i]):\n",
    "#         cntr+=1\n",
    "#     if (cntr>10):\n",
    "#         break     \n",
    "    hypothesis_test = 1.0 /(1+ np.exp(np.dot(df5,-thetaj)))\n",
    "    test_accuracy[0][i]=100-(np.mean(np.abs(np.round(hypothesis_test)-y5))*100)\n",
    "    #weight update\n",
    "    dot=np.dot((y_fold1-hypothesis).T, df_fold1).T\n",
    "    thetaj = thetaj+(alpha/m)*dot\n",
    "    \n",
    "#plot\n",
    "import pylab\n",
    "x= np.linspace(0,iterations-1,iterations)\n",
    "for i in range(iterations-1):\n",
    "    Training=plt.plot(x[i],cost[0][i],'r*' )\n",
    "    Validation= plt.plot(x[i],cost1[0][i],'b*')\n",
    "plt.ylabel('J (theta)')\n",
    "plt.xlabel('Iterations')\n",
    "plt.title('Cost function')\n",
    "plt.legend(loc= 'upper right')\n",
    "pylab.show()\n",
    "\n",
    "#Testing accuracy\n",
    "plt.plot(test_accuracy.T, label= 'Accuracy')\n",
    "pylab.legend()\n",
    "plt.ylabel('Accuracy')\n",
    "plt.xlabel('Iterations')\n",
    "plt.title('Accuracy')\n",
    "\n"
   ]
  },
  {
   "cell_type": "markdown",
   "metadata": {},
   "source": [
    "### Fold 2- Set3"
   ]
  },
  {
   "cell_type": "code",
   "execution_count": 56,
   "metadata": {},
   "outputs": [
    {
     "name": "stderr",
     "output_type": "stream",
     "text": [
      "No handles with labels found to put in legend.\n"
     ]
    },
    {
     "data": {
      "image/png": "[encoded data removed]",
      "text/plain": [
       "<Figure size 432x288 with 1 Axes>"
      ]
     },
     "metadata": {
      "needs_background": "light"
     },
     "output_type": "display_data"
    },
    {
     "data": {
      "text/plain": [
       "Text(0.5, 1.0, 'Accuracy')"
      ]
     },
     "execution_count": 56,
     "metadata": {},
     "output_type": "execute_result"
    },
    {
     "data": {
      "image/png": "[encoded data removed]",
      "text/plain": [
       "<Figure size 432x288 with 1 Axes>"
      ]
     },
     "metadata": {
      "needs_background": "light"
     },
     "output_type": "display_data"
    }
   ],
   "source": [
    "#fold 2 : df_fold2= trn, df5=val, df1=test\n",
    "thetaj =np.zeros((df_fold2.shape[1],1))#(14,1)\n",
    "iterations=100\n",
    "m=180\n",
    "alpha= .06\n",
    "cntr=0\n",
    "cost2 = np.zeros(shape=(1,iterations)) \n",
    "cost3 = np.zeros(shape=(1,iterations)) \n",
    "test_accuracy2 = np.zeros(shape=(1,iterations))\n",
    "\n",
    "for i in range(iterations):\n",
    "    #training\n",
    "    hypothesis = 1 /(1+ np.exp(-np.dot(df_fold2,thetaj)))#(180,1)\n",
    "    cost2[0][i] = (-1/m) * np.sum(np.dot(y_fold2.T,np.log(hypothesis)) + np.dot((1-y_fold2).T,np.log(1-hypothesis)))\n",
    "    #validation\n",
    "    hypothesis1 = 1 /(1+ np.exp(-np.dot(df5,thetaj)))#(60,1) \n",
    "    cost3[0][i] = (-1/60) * np.sum(np.dot(y5.T,np.log(hypothesis1)) + np.dot((1-y5).T,np.log(1-hypothesis1)))\n",
    "    #early stopping criteria:\n",
    "    if (cost3[0][i]>cost2[0][i]):\n",
    "        cntr+=1\n",
    "    if (cntr>10):\n",
    "        break    \n",
    "    hypothesis_test = 1.0 /(1+ np.exp(np.dot(df1,-thetaj)))\n",
    "    test_accuracy2[0][i]=100-(np.mean(np.abs(np.round(hypothesis_test)-y1))*100)\n",
    "    #weight update\n",
    "    dot=np.dot((y_fold2-hypothesis).T, df_fold2).T\n",
    "    thetaj = thetaj+(alpha/m)*dot\n",
    "    \n",
    "##Plot\n",
    "import pylab\n",
    "x= np.linspace(0,iterations-1,iterations)\n",
    "for i in range(iterations-1):\n",
    "    Training=plt.plot(x[i],cost2[0][i],'r*' )\n",
    "    Validation= plt.plot(x[i],cost3[0][i],'b*')\n",
    "plt.ylabel('J (theta)')\n",
    "plt.xlabel('Iterations')\n",
    "plt.title('Cost function')\n",
    "plt.legend(loc= 'upper right')\n",
    "pylab.show()\n",
    "\n",
    "#Testing accuracy\n",
    "plt.plot(test_accuracy2.T, label= 'Accuracy')\n",
    "pylab.legend(loc=0)\n",
    "plt.ylabel('Accuracy')\n",
    "plt.xlabel('Iterations')\n",
    "plt.title('Accuracy')\n"
   ]
  },
  {
   "cell_type": "markdown",
   "metadata": {},
   "source": [
    "### Fold 3- Set3"
   ]
  },
  {
   "cell_type": "code",
   "execution_count": 57,
   "metadata": {},
   "outputs": [
    {
     "name": "stderr",
     "output_type": "stream",
     "text": [
      "No handles with labels found to put in legend.\n"
     ]
    },
    {
     "data": {
      "image/png": "[encoded data removed]",
      "text/plain": [
       "<Figure size 432x288 with 1 Axes>"
      ]
     },
     "metadata": {
      "needs_background": "light"
     },
     "output_type": "display_data"
    },
    {
     "data": {
      "text/plain": [
       "Text(0.5, 1.0, 'Accuracy')"
      ]
     },
     "execution_count": 57,
     "metadata": {},
     "output_type": "execute_result"
    },
    {
     "data": {
      "image/png": "[encoded data removed]",
      "text/plain": [
       "<Figure size 432x288 with 1 Axes>"
      ]
     },
     "metadata": {
      "needs_background": "light"
     },
     "output_type": "display_data"
    }
   ],
   "source": [
    "#fold 3 : df_fold3= trn, df1=val, df2=test\n",
    "thetaj =np.zeros((df_fold3.shape[1],1))#(14,1)\n",
    "iterations=100\n",
    "m=180\n",
    "alpha= .1\n",
    "cntr=0\n",
    "cost4 = np.zeros(shape=(1,iterations)) \n",
    "cost5 = np.zeros(shape=(1,iterations)) \n",
    "test_accuracy3 = np.zeros(shape=(1,iterations))\n",
    "\n",
    "for i in range(iterations):\n",
    "    #training\n",
    "    hypothesis = 1 /(1+ np.exp(-np.dot(df_fold3,thetaj)))#(180,1)\n",
    "    cost4[0][i] = (-1/m) * np.sum(np.dot(y_fold3.T,np.log(hypothesis)) + np.dot((1-y_fold3).T,np.log(1-hypothesis)))\n",
    "    #validation\n",
    "    hypothesis1 = 1 /(1+ np.exp(-np.dot(df1,thetaj)))#(60,1) \n",
    "    cost5[0][i] = (-1/60) * np.sum(np.dot(y1.T,np.log(hypothesis1)) + np.dot((1-y1).T,np.log(1-hypothesis1)))\n",
    "    #early stopping criteria:\n",
    "#     if (cost5[0][i]>cost4[0][i]):\n",
    "#         cntr+=1\n",
    "#     if (cntr>10):\n",
    "#         break    \n",
    "    hypothesis_test = 1.0 /(1+ np.exp(np.dot(df2,-thetaj)))\n",
    "    test_accuracy3[0][i]=100-(np.mean(np.abs(np.round(hypothesis_test)-y2))*100)\n",
    "    #weight update\n",
    "    dot=np.dot((y_fold3-hypothesis).T, df_fold3).T\n",
    "    thetaj = thetaj+(alpha/m)*dot\n",
    "    \n",
    "#Plot \n",
    "import pylab\n",
    "x= np.linspace(0,iterations-1,iterations)\n",
    "for i in range(iterations-1):\n",
    "    Training=plt.plot(x[i],cost4[0][i],'r*' )\n",
    "    Validation= plt.plot(x[i],cost5[0][i],'b*')\n",
    "plt.ylabel('J (theta)')\n",
    "plt.xlabel('Iterations')\n",
    "plt.title('Cost function')\n",
    "plt.legend(loc= 'upper right')\n",
    "pylab.show()\n",
    "\n",
    "#Testing accuracy\n",
    "plt.plot(test_accuracy3.T, label= 'Accuracy')\n",
    "pylab.legend(loc=0)\n",
    "plt.ylabel('Accuracy')\n",
    "plt.xlabel('Iterations')\n",
    "plt.title('Accuracy')\n"
   ]
  },
  {
   "cell_type": "markdown",
   "metadata": {},
   "source": [
    "### Fold 4- Set3"
   ]
  },
  {
   "cell_type": "code",
   "execution_count": 65,
   "metadata": {},
   "outputs": [
    {
     "name": "stderr",
     "output_type": "stream",
     "text": [
      "No handles with labels found to put in legend.\n"
     ]
    },
    {
     "data": {
      "image/png": "[encoded data removed]",
      "text/plain": [
       "<Figure size 432x288 with 1 Axes>"
      ]
     },
     "metadata": {
      "needs_background": "light"
     },
     "output_type": "display_data"
    },
    {
     "data": {
      "text/plain": [
       "Text(0.5, 1.0, 'Accuracy')"
      ]
     },
     "execution_count": 65,
     "metadata": {},
     "output_type": "execute_result"
    },
    {
     "data": {
      "image/png": "[encoded data removed]",
      "text/plain": [
       "<Figure size 432x288 with 1 Axes>"
      ]
     },
     "metadata": {
      "needs_background": "light"
     },
     "output_type": "display_data"
    }
   ],
   "source": [
    "#fold 4 : df_fold4= trn, df2=val, df3=test\n",
    "thetaj =np.zeros((df_fold4.shape[1],1))#(14,1)\n",
    "iterations=100\n",
    "m=180\n",
    "alpha= 0.02\n",
    "cntr=0\n",
    "cost6 = np.zeros(shape=(1,iterations)) \n",
    "cost7 = np.zeros(shape=(1,iterations)) \n",
    "test_accuracy4 = np.zeros(shape=(1,iterations))\n",
    "\n",
    "for i in range(iterations):\n",
    "    #training\n",
    "    hypothesis = 1 /(1+ np.exp(-np.dot(df_fold4,thetaj)))#(180,1)\n",
    "    cost6[0][i] = (-1/m) * np.sum(np.dot(y_fold4.T,np.log(hypothesis)) + np.dot((1-y_fold4).T,np.log(1-hypothesis)))\n",
    "    #validation\n",
    "    hypothesis1 = 1 /(1+ np.exp(-np.dot(df2,thetaj)))#(60,1) \n",
    "    cost7[0][i] = (-1/60) * np.sum(np.dot(y2.T,np.log(hypothesis1)) + np.dot((1-y2).T,np.log(1-hypothesis1)))\n",
    "    #early stopping criteria:\n",
    "    if (cost7[0][i]>cost6[0][i]):\n",
    "        cntr+=1\n",
    "    if (cntr>10):\n",
    "        break    \n",
    "    hypothesis_test = 1.0 /(1+ np.exp(np.dot(df3,-thetaj)))\n",
    "    test_accuracy4[0][i]=100-(np.mean(np.abs(np.round(hypothesis_test)-y3))*100)\n",
    "    #weight update\n",
    "    dot=np.dot((y_fold4-hypothesis).T, df_fold4).T\n",
    "    thetaj = thetaj+(alpha/m)*dot\n",
    "\n",
    "#Plot\n",
    "import pylab\n",
    "x= np.linspace(0,iterations-1,iterations)\n",
    "for i in range(iterations-1):\n",
    "    Training=plt.plot(x[i],cost6[0][i],'r*' )\n",
    "    Validation= plt.plot(x[i],cost7[0][i],'b*')\n",
    "plt.ylabel('J (theta)')\n",
    "plt.xlabel('Iterations')\n",
    "plt.title('Cost function')\n",
    "plt.legend(loc= 'upper right')\n",
    "pylab.show()\n",
    "\n",
    "#Testing accuracy\n",
    "plt.plot(test_accuracy4.T, label= 'Accuracy')\n",
    "pylab.legend(loc=0)\n",
    "plt.ylabel('Accuracy')\n",
    "plt.xlabel('Iterations')\n",
    "plt.title('Accuracy')"
   ]
  },
  {
   "cell_type": "markdown",
   "metadata": {},
   "source": [
    "### Fold 5- Set3"
   ]
  },
  {
   "cell_type": "code",
   "execution_count": 74,
   "metadata": {},
   "outputs": [
    {
     "name": "stderr",
     "output_type": "stream",
     "text": [
      "No handles with labels found to put in legend.\n"
     ]
    },
    {
     "data": {
      "image/png": "[encoded data removed]",
      "text/plain": [
       "<Figure size 432x288 with 1 Axes>"
      ]
     },
     "metadata": {
      "needs_background": "light"
     },
     "output_type": "display_data"
    },
    {
     "data": {
      "text/plain": [
       "Text(0.5, 1.0, 'Accuracy')"
      ]
     },
     "execution_count": 74,
     "metadata": {},
     "output_type": "execute_result"
    },
    {
     "data": {
      "image/png": "[encoded data removed]",
      "text/plain": [
       "<Figure size 432x288 with 1 Axes>"
      ]
     },
     "metadata": {
      "needs_background": "light"
     },
     "output_type": "display_data"
    }
   ],
   "source": [
    "#fold 5 :df_fold5= trn, df3=val, df4=test\n",
    "thetaj =np.zeros((df_fold5.shape[1],1))#(14,1)\n",
    "iterations=100\n",
    "m=180\n",
    "alpha= .18\n",
    "cntr=0\n",
    "cost8 = np.zeros(shape=(1,iterations)) \n",
    "cost9 = np.zeros(shape=(1,iterations)) \n",
    "test_accuracy5 = np.zeros(shape=(1,iterations))\n",
    "\n",
    "for i in range(iterations):\n",
    "    #training\n",
    "    hypothesis = 1 /(1+ np.exp(-np.dot(df_fold5,thetaj)))#(180,1)\n",
    "    cost8[0][i] = (-1/m) * np.sum(np.dot(y_fold5.T,np.log10(hypothesis)) + np.dot((1-y_fold5).T,np.log10(1-hypothesis)))\n",
    "    #validation\n",
    "    hypothesis1 = 1 /(1+ np.exp(-np.dot(df3,thetaj)))#(60,1) \n",
    "    cost9[0][i] = (-1/60) * np.sum(np.dot(y3.T,np.log10(hypothesis1)) + np.dot((1-y3).T,np.log10(1-hypothesis1)))\n",
    "    #early stopping criteria:  \n",
    "    hypothesis_test = 1.0 /(1+ np.exp(np.dot(df4,-thetaj)))\n",
    "    test_accuracy5[0][i]=100-(np.mean(np.abs(np.round(hypothesis_test)-y4))*100)\n",
    "    #weight update\n",
    "    dot=np.dot((y_fold5-hypothesis).T, df_fold5).T\n",
    "    thetaj = thetaj+(alpha/m)*dot\n",
    "#Plot\n",
    "import pylab\n",
    "x= np.linspace(0,iterations-1,iterations)\n",
    "for i in range(iterations-1):\n",
    "    Training=plt.plot(x[i],cost8[0][i],'r*' )\n",
    "    Validation= plt.plot(x[i],cost9[0][i],'b*')\n",
    "plt.ylabel('J (theta)')\n",
    "plt.xlabel('Iterations')\n",
    "plt.title('Cost function')\n",
    "plt.legend(loc= 'upper right')\n",
    "pylab.show()\n",
    "\n",
    "#Testing accuracy\n",
    "plt.plot(test_accuracy5.T, label= 'Accuracy')\n",
    "pylab.legend(loc=0)\n",
    "plt.ylabel('Accuracy')\n",
    "plt.xlabel('Iterations')\n",
    "plt.title('Accuracy')"
   ]
  },
  {
   "cell_type": "code",
   "execution_count": null,
   "metadata": {},
   "outputs": [],
   "source": []
  }
 ],
 "metadata": {
  "kernelspec": {
   "display_name": "Python 3",
   "language": "python",
   "name": "python3"
  },
  "language_info": {
   "codemirror_mode": {
    "name": "ipython",
    "version": 3
   },
   "file_extension": ".py",
   "mimetype": "text/x-python",
   "name": "python",
   "nbconvert_exporter": "python",
   "pygments_lexer": "ipython3",
   "version": "3.7.6"
  }
 },
 "nbformat": 4,
 "nbformat_minor": 2
}
